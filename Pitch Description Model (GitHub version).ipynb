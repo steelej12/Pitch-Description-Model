{
 "cells": [
  {
   "cell_type": "code",
   "execution_count": null,
   "metadata": {},
   "outputs": [],
   "source": [
    "import pandas as pd\n",
    "import numpy as np\n",
    "import matplotlib.pyplot as plt\n",
    "import seaborn as sns\n",
    "from pybaseball import statcast\n",
    "from sklearn.preprocessing import StandardScaler\n",
    "from sklearn.cluster import KMeans"
   ]
  },
  {
   "cell_type": "code",
   "execution_count": null,
   "metadata": {},
   "outputs": [],
   "source": [
    "#df= statcast(start_dt='2022-03-20', end_dt='2022-10-31')"
   ]
  },
  {
   "cell_type": "code",
   "execution_count": null,
   "metadata": {},
   "outputs": [],
   "source": [
    "#df.columns"
   ]
  },
  {
   "cell_type": "code",
   "execution_count": null,
   "metadata": {},
   "outputs": [],
   "source": [
    "#dft = df[['player_name','p_throws','pitch_type','release_speed','release_pos_x','release_pos_z','events','description','release_spin_rate','release_extension','plate_x','plate_z']]"
   ]
  },
  {
   "cell_type": "code",
   "execution_count": null,
   "metadata": {},
   "outputs": [],
   "source": [
    "#creating a new column for the vertical and horizontal break in inches\n",
    "#dft.assign(pfx_z=df['pfx_z']*12)\n",
    "#dft.assign(pfx_x=df['pfx_x']*12)\n",
    "#dft.insert(5, 'Vertical Break', df['pfx_z']*12)\n",
    "#dft.insert(6, 'Horizontal Break', df['pfx_x']*12)"
   ]
  },
  {
   "cell_type": "code",
   "execution_count": null,
   "metadata": {},
   "outputs": [],
   "source": [
    "#dft.rename(columns={'player_name':'Player Name','p_throws':'Throws','pitch_type':'Pitch Type','release_speed':'Velocity','release_pos_x':'Side Release','release_pos_z':'Release Height','events':'Events','description':'Description','release_spin_rate':'Spin Rate','release_extension':'Extension','pfx_x':'Horizontal Break','pfx_z':'Vertical Break','plate_x':'Side Location','plate_z':'Height Location'}, inplace=True)\n",
    "#dft = dft[['Player Name','Throws','Pitch Type','Velocity','Spin Rate','Vertical Break','Horizontal Break','Release Height','Side Release','Extension']]\n"
   ]
  },
  {
   "cell_type": "code",
   "execution_count": null,
   "metadata": {},
   "outputs": [],
   "source": [
    "df = pd.read_csv('2022.csv')"
   ]
  },
  {
   "cell_type": "code",
   "execution_count": null,
   "metadata": {},
   "outputs": [],
   "source": [
    "df"
   ]
  },
  {
   "cell_type": "code",
   "execution_count": null,
   "metadata": {},
   "outputs": [],
   "source": [
    "#multply Horizontal Break by -1 to get the correct value\n",
    "df['Horizontal Break'] = df['Horizontal Break'] * -1\n",
    "#muliply Side Release by -1 to get the correct value\n",
    "df['Side Release'] = df['Side Release'] * -1"
   ]
  },
  {
   "cell_type": "code",
   "execution_count": null,
   "metadata": {},
   "outputs": [],
   "source": [
    "#load other data\n",
    "pf = pd.read_csv('2023 College TM.csv')"
   ]
  },
  {
   "cell_type": "code",
   "execution_count": null,
   "metadata": {},
   "outputs": [],
   "source": [
    "pf.head()"
   ]
  },
  {
   "cell_type": "code",
   "execution_count": null,
   "metadata": {},
   "outputs": [],
   "source": [
    "#Create a new dataframe with only the columns we want for Analysis\n",
    "pft = pf[['Pitcher','PitcherThrows','AutoPitchType','RelSpeed','SpinRate','Tilt','RelHeight','RelSide','Extension','InducedVertBreak', 'HorzBreak']]\n"
   ]
  },
  {
   "cell_type": "code",
   "execution_count": null,
   "metadata": {},
   "outputs": [],
   "source": [
    "#deletes all rows with NaN values in the dataframe\n",
    "pft = pft.dropna()"
   ]
  },
  {
   "cell_type": "code",
   "execution_count": null,
   "metadata": {},
   "outputs": [],
   "source": [
    "#rename columns\n",
    "pft.rename(columns={'Pitcher':'Player Name','PitcherThrows':'Throws','AutoPitchType':'Pitch Type','RelSpeed':'Velocity','SpinRate':'Spin Rate','Tilt':'Tilt','InducedVertBreak':'Vertical Break','HorzBreak':'Horizontal Break','RelHeight':'Release Height','RelSide':'Side Release','Extension':'Extension'}, inplace=True)\n",
    "pft.head()"
   ]
  },
  {
   "cell_type": "code",
   "execution_count": null,
   "metadata": {},
   "outputs": [],
   "source": [
    "#delete rows with NaN values\n",
    "pft = pft.dropna()\n",
    "pft.head()\n"
   ]
  },
  {
   "cell_type": "code",
   "execution_count": null,
   "metadata": {},
   "outputs": [],
   "source": [
    "df.head()"
   ]
  },
  {
   "cell_type": "code",
   "execution_count": null,
   "metadata": {},
   "outputs": [],
   "source": [
    "#rename throws values to match the other dataframe\n",
    "df['Throws'] = df['Throws'].replace(['R'],'Right')\n",
    "df['Throws'] = df['Throws'].replace(['L'],'Left')\n",
    "df.head()"
   ]
  },
  {
   "cell_type": "code",
   "execution_count": null,
   "metadata": {},
   "outputs": [],
   "source": [
    "#delete Unnamed:0 column\n",
    "df = df.drop(['Unnamed: 0'], axis=1)"
   ]
  },
  {
   "cell_type": "code",
   "execution_count": null,
   "metadata": {},
   "outputs": [],
   "source": [
    "df"
   ]
  },
  {
   "cell_type": "code",
   "execution_count": null,
   "metadata": {},
   "outputs": [],
   "source": [
    "#in df, multiply horizontal break by -1 to match the other dataframe\n"
   ]
  },
  {
   "cell_type": "code",
   "execution_count": null,
   "metadata": {},
   "outputs": [],
   "source": [
    "pft"
   ]
  },
  {
   "cell_type": "code",
   "execution_count": null,
   "metadata": {},
   "outputs": [],
   "source": [
    "#concatenate the two dataframes\n",
    "df = pd.concat([df,pft], ignore_index=True)"
   ]
  },
  {
   "cell_type": "code",
   "execution_count": null,
   "metadata": {},
   "outputs": [],
   "source": [
    "df"
   ]
  },
  {
   "cell_type": "code",
   "execution_count": null,
   "metadata": {},
   "outputs": [],
   "source": [
    "#delete Tilt\n",
    "df = df.drop(['Tilt'], axis=1)"
   ]
  },
  {
   "cell_type": "code",
   "execution_count": null,
   "metadata": {},
   "outputs": [],
   "source": [
    "#group by player name and pitch type without heirarchy include Throws column\n",
    "df_avg_pitch = df.groupby(['Player Name','Pitch Type','Throws'], as_index=False).mean()"
   ]
  },
  {
   "cell_type": "code",
   "execution_count": null,
   "metadata": {},
   "outputs": [],
   "source": [
    "df_avg_pitch.head()"
   ]
  },
  {
   "cell_type": "code",
   "execution_count": null,
   "metadata": {},
   "outputs": [],
   "source": [
    "##################"
   ]
  },
  {
   "cell_type": "code",
   "execution_count": null,
   "metadata": {},
   "outputs": [],
   "source": [
    "#rename pitch types\n",
    "df['Pitch Type'] = df['Pitch Type'].replace(['FF'],'Four-Seam')\n",
    "df['Pitch Type'] = df['Pitch Type'].replace(['SL'],'Slider')\n",
    "df['Pitch Type'] = df['Pitch Type'].replace(['CH'],'Changeup')\n",
    "df['Pitch Type'] = df['Pitch Type'].replace(['CU'],'Curveball')\n",
    "df['Pitch Type'] = df['Pitch Type'].replace(['FT'],'Two-Seam Fastball')\n",
    "df['Pitch Type'] = df['Pitch Type'].replace(['FC'],'Cutter')\n",
    "df['Pitch Type'] = df['Pitch Type'].replace(['FS'],'Splitter')\n",
    "df['Pitch Type'] = df['Pitch Type'].replace(['SI'],'Sinker')\n",
    "df['Pitch Type'] = df['Pitch Type'].replace(['KC'],'Knuckle Curve')\n",
    "df.head()\n"
   ]
  },
  {
   "cell_type": "code",
   "execution_count": null,
   "metadata": {},
   "outputs": [],
   "source": [
    "#csv to desktop\n",
    "df.to_csv('2022_combines.csv')"
   ]
  },
  {
   "cell_type": "code",
   "execution_count": null,
   "metadata": {},
   "outputs": [],
   "source": [
    "df_avg = pd.read_csv('2022_combines.csv')"
   ]
  },
  {
   "cell_type": "code",
   "execution_count": null,
   "metadata": {},
   "outputs": [],
   "source": [
    "#unique pitch types\n",
    "df_avg['Pitch Type'].unique()"
   ]
  },
  {
   "cell_type": "code",
   "execution_count": null,
   "metadata": {},
   "outputs": [],
   "source": [
    "#remove pitch types that are acronyms\n",
    "df_avg = df_avg[df_avg['Pitch Type'] != 'ST']\n",
    "df_avg = df_avg[df_avg['Pitch Type'] != 'PO']\n",
    "df_avg = df_avg[df_avg['Pitch Type'] != 'SV']   \n",
    "df_avg = df_avg[df_avg['Pitch Type'] != 'CS']\n",
    "df_avg = df_avg[df_avg['Pitch Type'] != 'FA']\n",
    "df_avg = df_avg[df_avg['Pitch Type'] != 'EP']\n",
    "df_avg = df_avg[df_avg['Pitch Type'] != 'nan']\n",
    "df_avg = df_avg[df_avg['Pitch Type'] != 'KN']\n",
    "df_avg = df_avg[df_avg['Pitch Type'] != 'SC']\n",
    "df_avg = df_avg[df_avg['Pitch Type'] != 'Other']"
   ]
  },
  {
   "cell_type": "code",
   "execution_count": null,
   "metadata": {},
   "outputs": [],
   "source": [
    "#remove pitch types that are acronyms in df\n",
    "df = df[df['Pitch Type'] != 'ST']\n",
    "df = df[df['Pitch Type'] != 'PO']\n",
    "df = df[df['Pitch Type'] != 'SV']\n",
    "df = df[df['Pitch Type'] != 'CS']\n",
    "df = df[df['Pitch Type'] != 'FA']\n",
    "df = df[df['Pitch Type'] != 'EP']\n",
    "df = df[df['Pitch Type'] != 'nan']\n",
    "df = df[df['Pitch Type'] != 'KN']\n",
    "df = df[df['Pitch Type'] != 'SC'] \n",
    "df = df[df['Pitch Type'] != 'Other']"
   ]
  },
  {
   "cell_type": "code",
   "execution_count": null,
   "metadata": {},
   "outputs": [],
   "source": [
    "df['Pitch Type'].unique()"
   ]
  },
  {
   "cell_type": "code",
   "execution_count": null,
   "metadata": {},
   "outputs": [],
   "source": [
    "#remove nan values\n",
    "df = df.dropna()\n"
   ]
  },
  {
   "cell_type": "code",
   "execution_count": null,
   "metadata": {},
   "outputs": [],
   "source": [
    "df['Pitch Type'].unique()"
   ]
  },
  {
   "cell_type": "code",
   "execution_count": null,
   "metadata": {},
   "outputs": [],
   "source": [
    "#seperate df_avg into different dataframes for each pitch type four seam sinket together\n",
    "df_avg_fastball = df_avg[df_avg['Pitch Type'].isin(['Four-Seam','Two-Seam Fastball','Sinker'])]\n",
    "df_avg_slider = df_avg[df_avg['Pitch Type'].isin(['Slider'])]\n",
    "df_avg_changeup = df_avg[df_avg['Pitch Type'].isin(['Changeup'])]\n",
    "df_avg_curveball = df_avg[df_avg['Pitch Type'].isin(['Curveball'])]"
   ]
  },
  {
   "cell_type": "code",
   "execution_count": null,
   "metadata": {},
   "outputs": [],
   "source": [
    "#sepereate df into different dataframes for each pitch type four seam sinker together\n",
    "df_fastball = df[df['Pitch Type'].isin(['Four-Seam','Two-Seam Fastball','Sinker'])]\n",
    "df_slider = df[df['Pitch Type'].isin(['Slider'])]\n",
    "df_changeup = df[df['Pitch Type'].isin(['Changeup'])]\n",
    "df_curveball = df[df['Pitch Type'].isin(['Curveball'])]\n"
   ]
  },
  {
   "cell_type": "code",
   "execution_count": null,
   "metadata": {},
   "outputs": [],
   "source": [
    "#check the value type of df_avg_fastball\n",
    "df.dtypes"
   ]
  },
  {
   "cell_type": "code",
   "execution_count": null,
   "metadata": {},
   "outputs": [],
   "source": [
    "#export to csv\n",
    "df_avg_fastball.to_csv('2022_fastball.csv')\n",
    "df_avg_slider.to_csv('2022_slider.csv')\n",
    "df_avg_changeup.to_csv('2022_changeup.csv')\n",
    "df_avg_curveball.to_csv('2022_curveball.csv')\n"
   ]
  },
  {
   "cell_type": "code",
   "execution_count": null,
   "metadata": {},
   "outputs": [],
   "source": [
    "import pandas as pd\n",
    "from sklearn.preprocessing import StandardScaler, OneHotEncoder\n",
    "from sklearn.compose import ColumnTransformer\n",
    "from sklearn.cluster import KMeans\n"
   ]
  },
  {
   "cell_type": "code",
   "execution_count": null,
   "metadata": {},
   "outputs": [],
   "source": [
    "data_fb = pd.read_csv('2022_fastball.csv')"
   ]
  },
  {
   "cell_type": "code",
   "execution_count": null,
   "metadata": {},
   "outputs": [],
   "source": [
    "\n",
    "#remove Cluster\n",
    "#df_fastball = df_fastball.drop(['Cluster'], axis=1)"
   ]
  },
  {
   "cell_type": "code",
   "execution_count": null,
   "metadata": {},
   "outputs": [],
   "source": [
    "#delete Unnamed: 0 column and Unnamed: 0.1 columm\n",
    "data_fb = data_fb.drop(['Unnamed: 0'], axis=1)\n",
    "data_fb = data_fb.drop(['Unnamed: 0.1'], axis=1)"
   ]
  },
  {
   "cell_type": "code",
   "execution_count": null,
   "metadata": {},
   "outputs": [],
   "source": [
    "\n",
    "# Define which columns need to be normalized and which need to be one-hot encoded\n",
    "num_cols = ['Velocity', 'Spin Rate', 'Vertical Break', 'Horizontal Break', 'Release Height', 'Side Release', 'Extension']\n",
    "cat_cols = ['Player Name','Throws', 'Pitch Type']"
   ]
  },
  {
   "cell_type": "code",
   "execution_count": null,
   "metadata": {},
   "outputs": [],
   "source": [
    "#remove nan values\n",
    "df = df.dropna()"
   ]
  },
  {
   "cell_type": "code",
   "execution_count": null,
   "metadata": {},
   "outputs": [],
   "source": [
    "#unique\n",
    "df['Throws'].unique()"
   ]
  },
  {
   "cell_type": "code",
   "execution_count": null,
   "metadata": {},
   "outputs": [],
   "source": [
    "#sepereate by Throws == Right and Throws == Left\n",
    "df_right = df[df['Throws'].isin(['Right'])]\n",
    "df_left = df[df['Throws'].isin(['Left'])]"
   ]
  },
  {
   "cell_type": "code",
   "execution_count": null,
   "metadata": {},
   "outputs": [],
   "source": [
    "#unique pitchj types\n",
    "df_right['Pitch Type'].unique()"
   ]
  },
  {
   "cell_type": "code",
   "execution_count": null,
   "metadata": {},
   "outputs": [],
   "source": [
    "#sepereate by pitch type\n",
    "df_right_fb = df_right[df_right['Pitch Type'].isin(['Four-Seam','Two-Seam Fastball','Sinker'])]\n",
    "df_right_slider = df_right[df_right['Pitch Type'].isin(['Slider'])]\n",
    "df_right_changeup = df_right[df_right['Pitch Type'].isin(['Changeup'])]\n",
    "df_right_curveball = df_right[df_right['Pitch Type'].isin(['Curveball','Knuckle Curve'])]"
   ]
  },
  {
   "cell_type": "code",
   "execution_count": null,
   "metadata": {},
   "outputs": [],
   "source": [
    "#sepereate by pitch type\n",
    "df_left_fb = df_left[df_left['Pitch Type'].isin(['Four-Seam','Two-Seam Fastball','Sinker'])]\n",
    "df_left_slider = df_left[df_left['Pitch Type'].isin(['Slider'])]\n",
    "df_left_changeup = df_left[df_left['Pitch Type'].isin(['Changeup'])]\n",
    "df_left_curveball = df_left[df_left['Pitch Type'].isin(['Curveball','Knuckle Curve'])]"
   ]
  },
  {
   "cell_type": "code",
   "execution_count": null,
   "metadata": {},
   "outputs": [],
   "source": [
    "#create a new column nexted to velocity called Velo_percentile\n",
    "df_right_fb['Velo_percentile'] = df_right_fb['Velocity'].rank(pct=True)\n",
    "df_right_slider['Velo_percentile'] = df_right_slider['Velocity'].rank(pct=True)\n",
    "df_right_changeup['Velo_percentile'] = df_right_changeup['Velocity'].rank(pct=True)\n",
    "df_right_curveball['Velo_percentile'] = df_right_curveball['Velocity'].rank(pct=True)"
   ]
  },
  {
   "cell_type": "code",
   "execution_count": null,
   "metadata": {},
   "outputs": [],
   "source": [
    "df_left_fb['Velo_percentile'] = df_left_fb['Velocity'].rank(pct=True)\n",
    "df_left_slider['Velo_percentile'] = df_left_slider['Velocity'].rank(pct=True)\n",
    "df_left_changeup['Velo_percentile'] = df_left_changeup['Velocity'].rank(pct=True)\n",
    "df_left_curveball['Velo_percentile'] = df_left_curveball['Velocity'].rank(pct=True)"
   ]
  },
  {
   "cell_type": "code",
   "execution_count": null,
   "metadata": {},
   "outputs": [],
   "source": [
    "#give percentile to extension\n",
    "df_right_fb['Extension_percentile'] = df_right_fb['Extension'].rank(pct=True)\n",
    "df_right_slider['Extension_percentile'] = df_right_slider['Extension'].rank(pct=True)\n",
    "df_right_changeup['Extension_percentile'] = df_right_changeup['Extension'].rank(pct=True)\n",
    "df_right_curveball['Extension_percentile'] = df_right_curveball['Extension'].rank(pct=True)"
   ]
  },
  {
   "cell_type": "code",
   "execution_count": null,
   "metadata": {},
   "outputs": [],
   "source": [
    "df_left_fb['Extension_percentile'] = df_left_fb['Extension'].rank(pct=True)\n",
    "df_left_slider['Extension_percentile'] = df_left_slider['Extension'].rank(pct=True)\n",
    "df_left_changeup['Extension_percentile'] = df_left_changeup['Extension'].rank(pct=True)\n",
    "df_left_curveball['Extension_percentile'] = df_left_curveball['Extension'].rank(pct=True)\n"
   ]
  },
  {
   "cell_type": "code",
   "execution_count": null,
   "metadata": {},
   "outputs": [],
   "source": [
    "#take the mean and group by player name no multi index / hierarchy\n",
    "df_right_fb = df_right_fb.groupby(['Player Name','Throws','Pitch Type'], as_index=False).mean()\n",
    "df_right_slider = df_right_slider.groupby(['Player Name','Throws','Pitch Type'], as_index=False).mean()\n",
    "df_right_changeup = df_right_changeup.groupby(['Player Name','Throws','Pitch Type'], as_index=False).mean()\n",
    "df_right_curveball = df_right_curveball.groupby(['Player Name','Throws','Pitch Type'], as_index=False).mean()"
   ]
  },
  {
   "cell_type": "code",
   "execution_count": null,
   "metadata": {},
   "outputs": [],
   "source": [
    "df_left_fb = df_left_fb.groupby(['Player Name','Throws','Pitch Type'], as_index=False).mean()\n",
    "df_left_slider = df_left_slider.groupby(['Player Name','Throws','Pitch Type'], as_index=False).mean()\n",
    "df_left_changeup = df_left_changeup.groupby(['Player Name','Throws','Pitch Type'], as_index=False).mean()\n",
    "df_left_curveball = df_left_curveball.groupby(['Player Name','Throws','Pitch Type'], as_index=False).mean()"
   ]
  },
  {
   "cell_type": "code",
   "execution_count": null,
   "metadata": {},
   "outputs": [],
   "source": [
    "#create a new column next to player name called player name ID and set it equal to index\n",
    "df_right_fb['Player Name ID'] = df_right_fb.index\n",
    "df_right_slider['Player Name ID'] = df_right_slider.index\n",
    "df_right_changeup['Player Name ID'] = df_right_changeup.index\n",
    "df_right_curveball['Player Name ID'] = df_right_curveball.index\n",
    "df_left_fb['Player Name ID'] = df_left_fb.index\n",
    "df_left_slider['Player Name ID'] = df_left_slider.index\n",
    "df_left_changeup['Player Name ID'] = df_left_changeup.index\n",
    "df_left_curveball['Player Name ID'] = df_left_curveball.index"
   ]
  },
  {
   "cell_type": "code",
   "execution_count": null,
   "metadata": {},
   "outputs": [],
   "source": [
    "df_right_fb_velo = df_right_fb[['Player Name','Player Name ID','Velo_percentile']]\n",
    "df_right_slider_velo = df_right_slider[['Player Name','Player Name ID','Velo_percentile']]\n",
    "df_right_changeup_velo = df_right_changeup[['Player Name','Player Name ID','Velo_percentile']]\n",
    "df_right_curveball_velo = df_right_curveball[['Player Name','Player Name ID','Velo_percentile']]"
   ]
  },
  {
   "cell_type": "code",
   "execution_count": null,
   "metadata": {},
   "outputs": [],
   "source": [
    "df_left_fb_velo = df_left_fb[['Player Name','Player Name ID','Velo_percentile']]\n",
    "df_left_slider_velo = df_left_slider[['Player Name','Player Name ID','Velo_percentile']]\n",
    "df_left_changeup_velo = df_left_changeup[['Player Name','Player Name ID','Velo_percentile']]\n",
    "df_left_curveball_velo = df_left_curveball[['Player Name','Player Name ID','Velo_percentile']]"
   ]
  },
  {
   "cell_type": "code",
   "execution_count": null,
   "metadata": {},
   "outputs": [],
   "source": [
    "df_right_fb_movement = df_right_fb[['Vertical Break','Horizontal Break','Player Name ID']]\n",
    "df_right_slider_movement = df_right_slider[['Vertical Break','Horizontal Break','Player Name ID']]\n",
    "df_right_changeup_movement = df_right_changeup[['Vertical Break','Horizontal Break','Player Name ID']] \n",
    "df_right_curveball_movement = df_right_curveball[['Vertical Break','Horizontal Break','Player Name ID']]\n"
   ]
  },
  {
   "cell_type": "code",
   "execution_count": null,
   "metadata": {},
   "outputs": [],
   "source": [
    "df_left_fb_movement = df_left_fb[['Vertical Break','Horizontal Break','Player Name ID']]\n",
    "df_left_slider_movement = df_left_slider[['Vertical Break','Horizontal Break','Player Name ID']]\n",
    "df_left_changeup_movement = df_left_changeup[['Vertical Break','Horizontal Break','Player Name ID']]\n",
    "df_left_curveball_movement = df_left_curveball[['Vertical Break','Horizontal Break','Player Name ID']]"
   ]
  },
  {
   "cell_type": "code",
   "execution_count": null,
   "metadata": {},
   "outputs": [],
   "source": [
    "df_right_fb_release = df_right_fb[['Release Height','Side Release','Player Name ID']]\n",
    "df_right_slider_release = df_right_slider[['Release Height','Side Release','Player Name ID']]\n",
    "df_right_changeup_release = df_right_changeup[['Release Height','Side Release','Player Name ID']]\n",
    "df_right_curveball_release = df_right_curveball[['Release Height','Side Release','Player Name ID']] \n"
   ]
  },
  {
   "cell_type": "code",
   "execution_count": null,
   "metadata": {},
   "outputs": [],
   "source": [
    "df_left_fb_release = df_left_fb[['Release Height','Side Release','Player Name ID']]\n",
    "df_left_slider_release = df_left_slider[['Release Height','Side Release','Player Name ID']]\n",
    "df_left_changeup_release = df_left_changeup[['Release Height','Side Release','Player Name ID']]\n",
    "df_left_curveball_release = df_left_curveball[['Release Height','Side Release','Player Name ID']]"
   ]
  },
  {
   "cell_type": "code",
   "execution_count": null,
   "metadata": {},
   "outputs": [],
   "source": [
    "# Scale the data to normalize it\n",
    "scaler = StandardScaler()\n",
    "scaled_data = scaler.fit_transform(df_right_fb_movement)\n",
    "\n",
    "# Implement KMeans\n",
    "kmeans = KMeans(n_clusters=5)  # Number of clusters can be chosen depending on how you want to segregate\n",
    "movement_labels = kmeans.fit_predict(scaled_data)\n",
    "\n",
    "\n",
    "# Add the labels to your dataframe\n",
    "df_right_fb_movement['Cluster'] = movement_labels\n"
   ]
  },
  {
   "cell_type": "code",
   "execution_count": null,
   "metadata": {},
   "outputs": [],
   "source": [
    "#cluster summary\n",
    "df_right_fb_movement.groupby('Cluster').mean()"
   ]
  },
  {
   "cell_type": "code",
   "execution_count": null,
   "metadata": {},
   "outputs": [],
   "source": [
    "#rename clusters based on pitch description\n",
    "df_right_fb_movement['Cluster'] = df_right_fb_movement['Cluster'].replace({0:'Slight-Ride',1:'Slight Sink ',2:'Cut-Ride',3:'Sink',4:'Ride'})"
   ]
  },
  {
   "cell_type": "code",
   "execution_count": null,
   "metadata": {},
   "outputs": [],
   "source": [
    "#value counts by cluster\n",
    "df_right_fb_movement['Cluster'].value_counts()"
   ]
  },
  {
   "cell_type": "code",
   "execution_count": null,
   "metadata": {},
   "outputs": [],
   "source": [
    "#Change the name of cluster column to Pitch Movement\n",
    "df_right_fb_movement = df_right_fb_movement.rename(columns={'Cluster':'Pitch Movement'})"
   ]
  },
  {
   "cell_type": "code",
   "execution_count": null,
   "metadata": {},
   "outputs": [],
   "source": [
    "#replace Player Name ID with Player Name from df_right_fb\n",
    "df_right_fb_movement = df_right_fb_movement.replace({'Player Name ID':df_right_fb['Player Name']})"
   ]
  },
  {
   "cell_type": "code",
   "execution_count": null,
   "metadata": {},
   "outputs": [],
   "source": [
    "#export to csv\n",
    "df_right_fb_movement.to_csv('2022_right_fb_movement.csv')"
   ]
  },
  {
   "cell_type": "code",
   "execution_count": null,
   "metadata": {},
   "outputs": [],
   "source": [
    "#import csv\n",
    "df_right_fb_movement = pd.read_csv('2022_right_fb_movement.csv')"
   ]
  },
  {
   "cell_type": "code",
   "execution_count": null,
   "metadata": {},
   "outputs": [],
   "source": [
    "# Scale the data to normalize it\n",
    "scaler = StandardScaler()\n",
    "scaled_data2 = scaler.fit_transform(df_right_fb_release)\n",
    "\n",
    "# Implement KMeans\n",
    "kmeans = KMeans(n_clusters=5)  # Number of clusters can be chosen depending on how you want to segregate\n",
    "movement_labels = kmeans.fit_predict(scaled_data2)\n",
    "\n",
    "\n",
    "# Add the labels to your dataframe\n",
    "df_right_fb_release['Cluster'] = movement_labels"
   ]
  },
  {
   "cell_type": "code",
   "execution_count": null,
   "metadata": {},
   "outputs": [],
   "source": [
    "#summary of clusters\n",
    "df_right_fb_release.groupby('Cluster').mean()"
   ]
  },
  {
   "cell_type": "code",
   "execution_count": null,
   "metadata": {},
   "outputs": [],
   "source": [
    "#count of clusters\n",
    "df_right_fb_release['Cluster'].value_counts()"
   ]
  },
  {
   "cell_type": "code",
   "execution_count": null,
   "metadata": {},
   "outputs": [],
   "source": [
    "#rename clusters based on Release description\n",
    "df_right_fb_release['Cluster'] = df_right_fb_release['Cluster'].replace({0:'3/4',1:'3/4',2:'OverTheTop',3:'Low 3/4 | Sidearm',4:'OverTheTop'})"
   ]
  },
  {
   "cell_type": "code",
   "execution_count": null,
   "metadata": {},
   "outputs": [],
   "source": [
    "#Change the name of cluster column to Pitch Release\n",
    "df_right_fb_release = df_right_fb_release.rename(columns={'Cluster':'Pitch Release'})"
   ]
  },
  {
   "cell_type": "code",
   "execution_count": null,
   "metadata": {},
   "outputs": [],
   "source": [
    "#replace Player Name ID with Player Name from df_right_fb\n",
    "df_right_fb_release = df_right_fb_release.replace({'Player Name ID':df_right_fb['Player Name']})"
   ]
  },
  {
   "cell_type": "code",
   "execution_count": null,
   "metadata": {},
   "outputs": [],
   "source": [
    "#export to csv\n",
    "df_right_fb_release.to_csv('2022_right_fb_release.csv')"
   ]
  },
  {
   "cell_type": "code",
   "execution_count": null,
   "metadata": {},
   "outputs": [],
   "source": [
    "#import csv\n",
    "df_right_fb_release = pd.read_csv('2022_right_fb_release.csv')"
   ]
  },
  {
   "cell_type": "code",
   "execution_count": null,
   "metadata": {},
   "outputs": [],
   "source": [
    "#combine movement and release dataframes for right handed fastballs based on Player Name ID\n",
    "df_right_fb_movement_release = pd.merge(df_right_fb_movement, df_right_fb_release, on='Player Name ID', how='outer')"
   ]
  },
  {
   "cell_type": "code",
   "execution_count": null,
   "metadata": {},
   "outputs": [],
   "source": [
    "#df_right_fb_velo\n",
    "#create 5 clusters based on velo percentile\n",
    "#cluster 0 = 0-20 percentile\n",
    "#cluster 1 = 20-40 percentile\n",
    "#cluster 2 = 40-60 percentile\n",
    "#cluster 3 = 60-80 percentile\n",
    "#cluster 4 = 80-100 percentile\n",
    "df_right_fb_velo['Cluster'] = pd.cut(df_right_fb_velo['Velo_percentile'], bins=[0,.20,.40,.60,.80,1], labels=['0-20','20-40','40-60','60-80','80-100'])\n",
    "\n"
   ]
  },
  {
   "cell_type": "code",
   "execution_count": null,
   "metadata": {},
   "outputs": [],
   "source": [
    "#rename clusters based on velo percentile\n",
    "df_right_fb_velo['Cluster'] = df_right_fb_velo['Cluster'].replace({'0-20':'Very Slow','20-40':'Slow','40-60':'Average','60-80':'Hard','80-100':'Very Hard'})"
   ]
  },
  {
   "cell_type": "code",
   "execution_count": null,
   "metadata": {},
   "outputs": [],
   "source": [
    "#rename cluster column to Pitch Velocity description\n",
    "df_right_fb_velo = df_right_fb_velo.rename(columns={'Cluster':'Pitch Velocity'})"
   ]
  },
  {
   "cell_type": "code",
   "execution_count": null,
   "metadata": {},
   "outputs": [],
   "source": [
    "#replace Player Name ID with Player Name from df_right_fb\n",
    "df_right_fb_velo = df_right_fb_velo.replace({'Player Name ID':df_right_fb['Player Name']})"
   ]
  },
  {
   "cell_type": "code",
   "execution_count": null,
   "metadata": {},
   "outputs": [],
   "source": [
    "#combine movement, release, and velo dataframes for right handed fastballs based on Player Name ID\n",
    "df_right_fb_movement_release_velo = pd.merge(df_right_fb_movement_release, df_right_fb_velo, on='Player Name ID', how='outer')"
   ]
  },
  {
   "cell_type": "code",
   "execution_count": null,
   "metadata": {},
   "outputs": [],
   "source": [
    "#df_right_fb_movement_release_velo\n",
    "#only include Player Name ID, Pitch Velocity, Pitch Movement, Pitch Release\n",
    "df_right_fb_movement_release_velo = df_right_fb_movement_release_velo[['Player Name ID','Pitch Velocity','Pitch Movement','Pitch Release']]\n"
   ]
  },
  {
   "cell_type": "code",
   "execution_count": null,
   "metadata": {},
   "outputs": [],
   "source": [
    "# rename Player Name ID to Player Name in df_right_fb_movement_release_velo\n",
    "df_right_fb_movement_release_velo = df_right_fb_movement_release_velo.rename(columns={'Player Name ID':'Player Name'})"
   ]
  },
  {
   "cell_type": "code",
   "execution_count": null,
   "metadata": {},
   "outputs": [],
   "source": [
    "#df_right_fb2\n",
    "#df_right_fb only include Player Name, Throws, Velocity, Vertical Break, Horizontal Break, Release Height, Side Release, Extension\n",
    "df_right_fb2 = df_right_fb[['Player Name','Throws','Velocity','Vertical Break','Horizontal Break','Release Height','Side Release','Extension']]"
   ]
  },
  {
   "cell_type": "code",
   "execution_count": null,
   "metadata": {},
   "outputs": [],
   "source": [
    "#combine df_right_fb2 and df_right_fb_movement_release_velo if name appears in both dataframes\n",
    "df_right_fb_final = pd.merge(df_right_fb2, df_right_fb_movement_release_velo, on='Player Name', how='inner')\n",
    "#delete duplicate rows if name appears in more than once in df_right_fb_final\n",
    "df_right_fb_final = df_right_fb_final.drop_duplicates(subset=['Player Name'])"
   ]
  },
  {
   "cell_type": "code",
   "execution_count": null,
   "metadata": {},
   "outputs": [],
   "source": [
    "#sort high to low by velocity\n",
    "df_right_fb_final = df_right_fb_final.sort_values(by=['Velocity'], ascending=False)"
   ]
  },
  {
   "cell_type": "code",
   "execution_count": null,
   "metadata": {},
   "outputs": [],
   "source": [
    "######BEGIN SLIDER##############################################################################################"
   ]
  },
  {
   "cell_type": "code",
   "execution_count": null,
   "metadata": {},
   "outputs": [],
   "source": [
    "# Scale the data to normalize it\n",
    "scaler = StandardScaler()\n",
    "scaled_data = scaler.fit_transform(df_right_slider_movement)\n",
    "\n",
    "# Implement KMeans\n",
    "kmeans = KMeans(n_clusters=4)  # Number of clusters can be chosen depending on how you want to segregate\n",
    "movement_labels = kmeans.fit_predict(scaled_data)\n",
    "\n",
    "\n",
    "# Add the labels to your dataframe\n",
    "df_right_slider_movement['Cluster'] = movement_labels"
   ]
  },
  {
   "cell_type": "code",
   "execution_count": null,
   "metadata": {},
   "outputs": [],
   "source": [
    "#summary of clusters\n",
    "df_right_slider_movement.groupby('Cluster').mean()"
   ]
  },
  {
   "cell_type": "code",
   "execution_count": null,
   "metadata": {},
   "outputs": [],
   "source": [
    "#value counts by cluster\n",
    "df_right_slider_movement['Cluster'].value_counts()"
   ]
  },
  {
   "cell_type": "code",
   "execution_count": null,
   "metadata": {},
   "outputs": [],
   "source": [
    "#rename clusters based on pitch description\n",
    "df_right_slider_movement['Cluster'] = df_right_slider_movement['Cluster'].replace({0:'Gyro',1:'Sweeper',2:'Gyro',3:'Cutter'})"
   ]
  },
  {
   "cell_type": "code",
   "execution_count": null,
   "metadata": {},
   "outputs": [],
   "source": [
    "#Change the name of cluster column to Pitch Movement\n",
    "df_right_slider_movement = df_right_slider_movement.rename(columns={'Cluster':'Pitch Movement'})"
   ]
  },
  {
   "cell_type": "code",
   "execution_count": null,
   "metadata": {},
   "outputs": [],
   "source": [
    "#replace Player Name ID with Player Name from df_right_slider\n",
    "df_right_slider_movement = df_right_slider_movement.replace({'Player Name ID':df_right_slider['Player Name']})"
   ]
  },
  {
   "cell_type": "code",
   "execution_count": null,
   "metadata": {},
   "outputs": [],
   "source": [
    "#export to csv\n",
    "df_right_slider_movement.to_csv('2022_right_slider_movement.csv')"
   ]
  },
  {
   "cell_type": "code",
   "execution_count": null,
   "metadata": {},
   "outputs": [],
   "source": [
    "#import csv\n",
    "df_right_slider_movement = pd.read_csv('2022_right_slider_movement.csv')"
   ]
  },
  {
   "cell_type": "code",
   "execution_count": null,
   "metadata": {},
   "outputs": [],
   "source": [
    "# Scale the data to normalize it\n",
    "scaler = StandardScaler()\n",
    "scaled_data = scaler.fit_transform(df_right_slider_release)\n",
    "\n",
    "# Implement KMeans\n",
    "kmeans = KMeans(n_clusters=4)  # Number of clusters can be chosen depending on how you want to segregate\n",
    "movement_labels = kmeans.fit_predict(scaled_data)\n",
    "\n",
    "\n",
    "# Add the labels to your dataframe\n",
    "df_right_slider_release['Cluster'] = movement_labels"
   ]
  },
  {
   "cell_type": "code",
   "execution_count": null,
   "metadata": {},
   "outputs": [],
   "source": [
    "#summary of clusters\n",
    "df_right_slider_release.groupby('Cluster').mean()"
   ]
  },
  {
   "cell_type": "code",
   "execution_count": null,
   "metadata": {},
   "outputs": [],
   "source": [
    "#count of clusters\n",
    "df_right_slider_release['Cluster'].value_counts()"
   ]
  },
  {
   "cell_type": "code",
   "execution_count": null,
   "metadata": {},
   "outputs": [],
   "source": [
    "#rename clusters based on Release description\n",
    "df_right_slider_release['Cluster'] = df_right_slider_release['Cluster'].replace({0:'Low 3/4 | Sidearm',1:'3/4',2:'3/4',3:'OverTheTop'})"
   ]
  },
  {
   "cell_type": "code",
   "execution_count": null,
   "metadata": {},
   "outputs": [],
   "source": [
    "#Change the name of cluster column to Pitch Release\n",
    "df_right_slider_release = df_right_slider_release.rename(columns={'Cluster':'Pitch Release'})"
   ]
  },
  {
   "cell_type": "code",
   "execution_count": null,
   "metadata": {},
   "outputs": [],
   "source": [
    "#replace Player Name ID with Player Name from df_right_slider\n",
    "df_right_slider_release = df_right_slider_release.replace({'Player Name ID':df_right_slider['Player Name']})"
   ]
  },
  {
   "cell_type": "code",
   "execution_count": null,
   "metadata": {},
   "outputs": [],
   "source": [
    "#export to csv\n",
    "df_right_slider_release.to_csv('2022_right_slider_release.csv')"
   ]
  },
  {
   "cell_type": "code",
   "execution_count": null,
   "metadata": {},
   "outputs": [],
   "source": [
    "#import csv\n",
    "df_right_slider_release = pd.read_csv('2022_right_slider_release.csv')"
   ]
  },
  {
   "cell_type": "code",
   "execution_count": null,
   "metadata": {},
   "outputs": [],
   "source": [
    "#combine movement and release dataframes for right handed sliders based on Player Name ID\n",
    "df_right_slider_movement_release = pd.merge(df_right_slider_movement, df_right_slider_release, on='Player Name ID', how='outer')"
   ]
  },
  {
   "cell_type": "code",
   "execution_count": null,
   "metadata": {},
   "outputs": [],
   "source": [
    "#remove Unnamed: 0 column\n",
    "df_right_slider_movement_release = df_right_slider_movement_release.drop(['Unnamed: 0_x'], axis=1)\n",
    "df_right_slider_movement_release = df_right_slider_movement_release.drop(['Unnamed: 0_y'], axis=1)"
   ]
  },
  {
   "cell_type": "code",
   "execution_count": null,
   "metadata": {},
   "outputs": [],
   "source": [
    "df_right_slider_velo['Cluster'] = pd.cut(df_right_slider_velo['Velo_percentile'], bins=[0,.20,.40,.60,.80,1], labels=['0-20','20-40','40-60','60-80','80-100'])"
   ]
  },
  {
   "cell_type": "code",
   "execution_count": null,
   "metadata": {},
   "outputs": [],
   "source": [
    "#rename clusters based on velo percentile\n",
    "df_right_slider_velo['Cluster'] = df_right_slider_velo['Cluster'].replace({'0-20':'Very Slow','20-40':'Slow','40-60':'Average','60-80':'Hard','80-100':'Very Hard'})"
   ]
  },
  {
   "cell_type": "code",
   "execution_count": null,
   "metadata": {},
   "outputs": [],
   "source": [
    "#rename cluster column to Pitch Velocity description\n",
    "df_right_slider_velo = df_right_slider_velo.rename(columns={'Cluster':'Pitch Velocity'})"
   ]
  },
  {
   "cell_type": "code",
   "execution_count": null,
   "metadata": {},
   "outputs": [],
   "source": [
    "#replace Player Name ID with Player Name from df_right_slider\n",
    "df_right_slider_velo = df_right_slider_velo.replace({'Player Name ID':df_right_slider['Player Name']})"
   ]
  },
  {
   "cell_type": "code",
   "execution_count": null,
   "metadata": {},
   "outputs": [],
   "source": [
    "#combine movement, release, and velo dataframes for right handed sliders based on Player Name ID\n",
    "df_right_slider_movement_release_velo = pd.merge(df_right_slider_movement_release, df_right_slider_velo, on='Player Name ID', how='outer')"
   ]
  },
  {
   "cell_type": "code",
   "execution_count": null,
   "metadata": {},
   "outputs": [],
   "source": [
    "#df_right_slider_movement_release_velo\n",
    "#only include Player Name ID, Pitch Velocity, Pitch Movement, Pitch Release\n",
    "df_right_slider_movement_release_velo = df_right_slider_movement_release_velo[['Player Name ID','Pitch Velocity','Pitch Movement','Pitch Release']]"
   ]
  },
  {
   "cell_type": "code",
   "execution_count": null,
   "metadata": {},
   "outputs": [],
   "source": [
    "# rename Player Name ID to Player Name in df_right_slider_movement_release_velo\n",
    "df_right_slider_movement_release_velo = df_right_slider_movement_release_velo.rename(columns={'Player Name ID':'Player Name'})"
   ]
  },
  {
   "cell_type": "code",
   "execution_count": null,
   "metadata": {},
   "outputs": [],
   "source": [
    "#df_right_slider2\n",
    "#df_right_slider only include Player Name, Throws, Velocity, Vertical Break, Horizontal Break, Release Height, Side Release, Extension\n",
    "df_right_slider2 = df_right_slider[['Player Name','Throws','Velocity','Vertical Break','Horizontal Break','Release Height','Side Release','Extension']]\n"
   ]
  },
  {
   "cell_type": "code",
   "execution_count": null,
   "metadata": {},
   "outputs": [],
   "source": [
    "#combine df_right_fb2 and df_right_fb_movement_release_velo if name appears in both dataframes\n",
    "df_right_slider_final = pd.merge(df_right_slider2, df_right_slider_movement_release_velo, on='Player Name', how='inner')\n",
    "#delete duplicate rows if name appears in more than once in df_right_fb_final\n",
    "df_right_slider_final = df_right_slider_final.drop_duplicates(subset=['Player Name'])"
   ]
  },
  {
   "cell_type": "code",
   "execution_count": null,
   "metadata": {},
   "outputs": [],
   "source": [
    "#BEGIN CHANGEUP######################################################################################################"
   ]
  },
  {
   "cell_type": "code",
   "execution_count": null,
   "metadata": {},
   "outputs": [],
   "source": [
    "# Scale the data to normalize it\n",
    "scaler = StandardScaler()\n",
    "scaled_data = scaler.fit_transform(df_right_changeup_movement)\n",
    "\n",
    "# Implement KMeans\n",
    "kmeans = KMeans(n_clusters=5)  # Number of clusters can be chosen depending on how you want to segregate\n",
    "movement_labels = kmeans.fit_predict(scaled_data)\n",
    "\n",
    "\n",
    "# Add the labels to your dataframe\n",
    "df_right_changeup_movement['Cluster'] = movement_labels"
   ]
  },
  {
   "cell_type": "code",
   "execution_count": null,
   "metadata": {},
   "outputs": [],
   "source": [
    "df_right_changeup_movement"
   ]
  },
  {
   "cell_type": "code",
   "execution_count": null,
   "metadata": {},
   "outputs": [],
   "source": [
    "#summary of clusters\n",
    "df_right_changeup_movement.groupby('Cluster').mean()"
   ]
  },
  {
   "cell_type": "code",
   "execution_count": null,
   "metadata": {},
   "outputs": [],
   "source": [
    "#value counts by cluster\n",
    "df_right_changeup_movement['Cluster'].value_counts()"
   ]
  },
  {
   "cell_type": "code",
   "execution_count": null,
   "metadata": {},
   "outputs": [],
   "source": [
    "#rename clusters based on pitch description\n",
    "df_right_changeup_movement['Cluster'] = df_right_changeup_movement['Cluster'].replace({0:'FB Shape',1:'Depth w/ Fade',2:'FB Shape',3:'Depth w/ fade',4:'Cut-Change'})"
   ]
  },
  {
   "cell_type": "code",
   "execution_count": null,
   "metadata": {},
   "outputs": [],
   "source": [
    "#change the name of cluster column to Pitch Movement\n",
    "df_right_changeup_movement = df_right_changeup_movement.rename(columns={'Cluster':'Pitch Movement'})"
   ]
  },
  {
   "cell_type": "code",
   "execution_count": null,
   "metadata": {},
   "outputs": [],
   "source": [
    "#replace Player Name ID with Player Name from df_right_changeup\n",
    "df_right_changeup_movement = df_right_changeup_movement.replace({'Player Name ID':df_right_changeup['Player Name']})"
   ]
  },
  {
   "cell_type": "code",
   "execution_count": null,
   "metadata": {},
   "outputs": [],
   "source": [
    "#export to csv\n",
    "df_right_changeup_movement.to_csv('2022_right_changeup_movement.csv')\n"
   ]
  },
  {
   "cell_type": "code",
   "execution_count": null,
   "metadata": {},
   "outputs": [],
   "source": [
    "#import csv\n",
    "df_right_changeup_movement = pd.read_csv('2022_right_changeup_movement.csv')"
   ]
  },
  {
   "cell_type": "code",
   "execution_count": null,
   "metadata": {},
   "outputs": [],
   "source": [
    "# Scale the data to normalize it\n",
    "scaler = StandardScaler()\n",
    "scaled_data = scaler.fit_transform(df_right_changeup_release)\n",
    "\n",
    "# Implement KMeans\n",
    "kmeans = KMeans(n_clusters=4)  # Number of clusters can be chosen depending on how you want to segregate\n",
    "movement_labels = kmeans.fit_predict(scaled_data)\n",
    "\n",
    "\n",
    "# Add the labels to your dataframe\n",
    "df_right_changeup_release['Cluster'] = movement_labels"
   ]
  },
  {
   "cell_type": "code",
   "execution_count": null,
   "metadata": {},
   "outputs": [],
   "source": [
    "#summary of clusters\n",
    "df_right_changeup_release.groupby('Cluster').mean()"
   ]
  },
  {
   "cell_type": "code",
   "execution_count": null,
   "metadata": {},
   "outputs": [],
   "source": [
    "#count of clusters\n",
    "df_right_changeup_release['Cluster'].value_counts()"
   ]
  },
  {
   "cell_type": "code",
   "execution_count": null,
   "metadata": {},
   "outputs": [],
   "source": [
    "#rename clusters based on Release description\n",
    "df_right_changeup_release['Cluster'] = df_right_changeup_release['Cluster'].replace({0:'3/4',1:'3/4',2:'Low 3/4 | Sidearm',3:'OverTheTop'})"
   ]
  },
  {
   "cell_type": "code",
   "execution_count": null,
   "metadata": {},
   "outputs": [],
   "source": [
    "#Change the name of cluster column to Pitch Release\n",
    "df_right_changeup_release = df_right_changeup_release.rename(columns={'Cluster':'Pitch Release'})"
   ]
  },
  {
   "cell_type": "code",
   "execution_count": null,
   "metadata": {},
   "outputs": [],
   "source": [
    "#replace Player Name ID with Player Name from df_right_changeup\n",
    "df_right_changeup_release = df_right_changeup_release.replace({'Player Name ID':df_right_changeup['Player Name']})"
   ]
  },
  {
   "cell_type": "code",
   "execution_count": null,
   "metadata": {},
   "outputs": [],
   "source": [
    "#export to csv\n",
    "df_right_changeup_release.to_csv('2022_right_changeup_release.csv')"
   ]
  },
  {
   "cell_type": "code",
   "execution_count": null,
   "metadata": {},
   "outputs": [],
   "source": [
    "#import csv\n",
    "df_right_changeup_release = pd.read_csv('2022_right_changeup_release.csv')"
   ]
  },
  {
   "cell_type": "code",
   "execution_count": null,
   "metadata": {},
   "outputs": [],
   "source": [
    "#combine movement and release dataframes for right handed changeups based on Player Name ID\n",
    "df_right_changeup_movement_release = pd.merge(df_right_changeup_movement, df_right_changeup_release, on='Player Name ID', how='outer')"
   ]
  },
  {
   "cell_type": "code",
   "execution_count": null,
   "metadata": {},
   "outputs": [],
   "source": [
    "df_right_changeup_velo['Cluster'] = pd.cut(df_right_changeup_velo['Velo_percentile'], bins=[0,.20,.40,.60,.80,1], labels=['0-20','20-40','40-60','60-80','80-100'])"
   ]
  },
  {
   "cell_type": "code",
   "execution_count": null,
   "metadata": {},
   "outputs": [],
   "source": [
    "#rename clusters based on velo percentile\n",
    "df_right_changeup_velo['Cluster'] = df_right_changeup_velo['Cluster'].replace({'0-20':'Very Slow','20-40':'Slow','40-60':'Average','60-80':'Hard','80-100':'Very Hard'})"
   ]
  },
  {
   "cell_type": "code",
   "execution_count": null,
   "metadata": {},
   "outputs": [],
   "source": [
    "#rename cluster column to Pitch Velocity description\n",
    "df_right_changeup_velo = df_right_changeup_velo.rename(columns={'Cluster':'Pitch Velocity'})"
   ]
  },
  {
   "cell_type": "code",
   "execution_count": null,
   "metadata": {},
   "outputs": [],
   "source": [
    "#replace Player Name ID with Player Name from df_right_changeup\n",
    "df_right_changeup_velo = df_right_changeup_velo.replace({'Player Name ID':df_right_changeup['Player Name']})"
   ]
  },
  {
   "cell_type": "code",
   "execution_count": null,
   "metadata": {},
   "outputs": [],
   "source": [
    "#combine movement, release, and velo dataframes for right handed changeups based on Player Name ID\n",
    "df_right_changeup_movement_release_velo = pd.merge(df_right_changeup_movement_release, df_right_changeup_velo, on='Player Name ID', how='outer')"
   ]
  },
  {
   "cell_type": "code",
   "execution_count": null,
   "metadata": {},
   "outputs": [],
   "source": [
    "#df_right_changeup_movement_release_velo\n",
    "#only include Player Name ID, Pitch Velocity, Pitch Movement, Pitch Release\n",
    "df_right_changeup_movement_release_velo = df_right_changeup_movement_release_velo[['Player Name ID','Pitch Velocity','Pitch Movement','Pitch Release']]"
   ]
  },
  {
   "cell_type": "code",
   "execution_count": null,
   "metadata": {},
   "outputs": [],
   "source": [
    "# rename Player Name ID to Player Name in df_right_changeup_movement_release_velo\n",
    "df_right_changeup_movement_release_velo = df_right_changeup_movement_release_velo.rename(columns={'Player Name ID':'Player Name'})"
   ]
  },
  {
   "cell_type": "code",
   "execution_count": null,
   "metadata": {},
   "outputs": [],
   "source": [
    "#df_right_changeup2\n",
    "#df_right_changeup only include Player Name, Throws, Velocity, Vertical Break, Horizontal Break, Release Height, Side Release, Extension\n",
    "df_right_changeup2 = df_right_changeup[['Player Name','Throws','Velocity','Vertical Break','Horizontal Break','Release Height','Side Release','Extension']]"
   ]
  },
  {
   "cell_type": "code",
   "execution_count": null,
   "metadata": {},
   "outputs": [],
   "source": [
    "#combine df_right_changeup2 and df_right_changeup_movement_release_velo if name appears in both dataframes\n",
    "df_right_changeup_final = pd.merge(df_right_changeup2, df_right_changeup_movement_release_velo, on='Player Name', how='inner')\n",
    "#delete duplicate rows if name appears in more than once in df_right_changeup_final\n",
    "df_right_changeup_final = df_right_changeup_final.drop_duplicates(subset=['Player Name'])"
   ]
  },
  {
   "cell_type": "code",
   "execution_count": null,
   "metadata": {},
   "outputs": [],
   "source": [
    "#sort high to low by velocity\n",
    "df_right_changeup_final = df_right_changeup_final.sort_values(by=['Velocity'], ascending=False)\n"
   ]
  },
  {
   "cell_type": "code",
   "execution_count": null,
   "metadata": {},
   "outputs": [],
   "source": [
    "#BEGIN CURVEBALL######################################################################################################"
   ]
  },
  {
   "cell_type": "code",
   "execution_count": null,
   "metadata": {},
   "outputs": [],
   "source": [
    "# Scale the data to normalize it\n",
    "scaler = StandardScaler()\n",
    "scaled_data = scaler.fit_transform(df_right_curveball_movement)\n",
    "\n",
    "# Implement KMeans\n",
    "kmeans = KMeans(n_clusters=3)  # Number of clusters can be chosen depending on how you want to segregate\n",
    "movement_labels = kmeans.fit_predict(scaled_data)\n",
    "\n",
    "\n",
    "# Add the labels to your dataframe\n",
    "df_right_curveball_movement['Cluster'] = movement_labels"
   ]
  },
  {
   "cell_type": "code",
   "execution_count": null,
   "metadata": {},
   "outputs": [],
   "source": [
    "#summary of clusters\n",
    "df_right_curveball_movement.groupby('Cluster').mean()"
   ]
  },
  {
   "cell_type": "code",
   "execution_count": null,
   "metadata": {},
   "outputs": [],
   "source": [
    "#value counts by cluster\n",
    "df_right_curveball_movement['Cluster'].value_counts()"
   ]
  },
  {
   "cell_type": "code",
   "execution_count": null,
   "metadata": {},
   "outputs": [],
   "source": [
    "#rename clusters based on pitch description\n",
    "df_right_curveball_movement['Cluster'] = df_right_curveball_movement['Cluster'].replace({0:'Small Curve',1:'True Curve',2:'Slider Type'})"
   ]
  },
  {
   "cell_type": "code",
   "execution_count": null,
   "metadata": {},
   "outputs": [],
   "source": [
    "#change the name of cluster column to Pitch Movement\n",
    "df_right_curveball_movement = df_right_curveball_movement.rename(columns={'Cluster':'Pitch Movement'})"
   ]
  },
  {
   "cell_type": "code",
   "execution_count": null,
   "metadata": {},
   "outputs": [],
   "source": [
    "#replace Player Name ID with Player Name from df_right_curveball\n",
    "df_right_curveball_movement = df_right_curveball_movement.replace({'Player Name ID':df_right_curveball['Player Name']})"
   ]
  },
  {
   "cell_type": "code",
   "execution_count": null,
   "metadata": {},
   "outputs": [],
   "source": [
    "#export to csv\n",
    "df_right_curveball_movement.to_csv('2022_right_curveball_movement.csv')"
   ]
  },
  {
   "cell_type": "code",
   "execution_count": null,
   "metadata": {},
   "outputs": [],
   "source": [
    "#import csv\n",
    "df_right_curveball_movement = pd.read_csv('2022_right_curveball_movement.csv')"
   ]
  },
  {
   "cell_type": "code",
   "execution_count": null,
   "metadata": {},
   "outputs": [],
   "source": [
    "# Scale the data to normalize it\n",
    "scaler = StandardScaler()\n",
    "scaled_data = scaler.fit_transform(df_right_curveball_release)\n",
    "\n",
    "# Implement KMeans\n",
    "kmeans = KMeans(n_clusters=4)  # Number of clusters can be chosen depending on how you want to segregate\n",
    "movement_labels = kmeans.fit_predict(scaled_data)\n",
    "\n",
    "\n",
    "# Add the labels to your dataframe\n",
    "df_right_curveball_release['Cluster'] = movement_labels"
   ]
  },
  {
   "cell_type": "code",
   "execution_count": null,
   "metadata": {},
   "outputs": [],
   "source": [
    "#summary of clusters\n",
    "df_right_curveball_release.groupby('Cluster').mean()"
   ]
  },
  {
   "cell_type": "code",
   "execution_count": null,
   "metadata": {},
   "outputs": [],
   "source": [
    "#value counts by cluster\n",
    "df_right_curveball_release['Cluster'].value_counts()"
   ]
  },
  {
   "cell_type": "code",
   "execution_count": null,
   "metadata": {},
   "outputs": [],
   "source": [
    "#rename clusters based on Release description\n",
    "df_right_curveball_release['Cluster'] = df_right_curveball_release['Cluster'].replace({0:'3/4',1:'3/4',2:'Low 3/4 | Sidearm',3:'OverTheTop'})"
   ]
  },
  {
   "cell_type": "code",
   "execution_count": null,
   "metadata": {},
   "outputs": [],
   "source": [
    "#Change the name of cluster column to Pitch Release\n",
    "df_right_curveball_release = df_right_curveball_release.rename(columns={'Cluster':'Pitch Release'})"
   ]
  },
  {
   "cell_type": "code",
   "execution_count": null,
   "metadata": {},
   "outputs": [],
   "source": [
    "#replace Player Name ID with Player Name from df_right_changeup\n",
    "df_right_curveball_release = df_right_curveball_release.replace({'Player Name ID':df_right_curveball['Player Name']})"
   ]
  },
  {
   "cell_type": "code",
   "execution_count": null,
   "metadata": {},
   "outputs": [],
   "source": [
    "#export to csv\n",
    "df_right_curveball_release.to_csv('2022_right_curveball_release.csv')"
   ]
  },
  {
   "cell_type": "code",
   "execution_count": null,
   "metadata": {},
   "outputs": [],
   "source": [
    "#import csv\n",
    "df_right_curveball_release = pd.read_csv('2022_right_curveball_release.csv')"
   ]
  },
  {
   "cell_type": "code",
   "execution_count": null,
   "metadata": {},
   "outputs": [],
   "source": [
    "#combine movement and release dataframes for right handed changeups based on Player Name ID\n",
    "df_right_curveball_movement_release = pd.merge(df_right_curveball_movement, df_right_curveball_release, on='Player Name ID', how='outer')"
   ]
  },
  {
   "cell_type": "code",
   "execution_count": null,
   "metadata": {},
   "outputs": [],
   "source": [
    "df_right_curveball_velo['Cluster'] = pd.cut(df_right_curveball_velo['Velo_percentile'], bins=[0,.20,.40,.60,.80,1], labels=['0-20','20-40','40-60','60-80','80-100'])"
   ]
  },
  {
   "cell_type": "code",
   "execution_count": null,
   "metadata": {},
   "outputs": [],
   "source": [
    "#rename clusters based on velo percentile\n",
    "df_right_curveball_velo['Cluster'] = df_right_curveball_velo['Cluster'].replace({'0-20':'Very Slow','20-40':'Slow','40-60':'Average','60-80':'Hard','80-100':'Very Hard'})"
   ]
  },
  {
   "cell_type": "code",
   "execution_count": null,
   "metadata": {},
   "outputs": [],
   "source": [
    "#rename cluster column to Pitch Velocity description\n",
    "df_right_curveball_velo = df_right_curveball_velo.rename(columns={'Cluster':'Pitch Velocity'})"
   ]
  },
  {
   "cell_type": "code",
   "execution_count": null,
   "metadata": {},
   "outputs": [],
   "source": [
    "#replace Player Name ID with Player Name from df_right_curveball\n",
    "df_right_curveball_velo = df_right_curveball_velo.replace({'Player Name ID':df_right_curveball['Player Name']})"
   ]
  },
  {
   "cell_type": "code",
   "execution_count": null,
   "metadata": {},
   "outputs": [],
   "source": [
    "#combine movement, release, and velo dataframes for right handed curveballs based on Player Name ID\n",
    "df_right_curveball_movement_release_velo = pd.merge(df_right_curveball_movement_release, df_right_curveball_velo, on='Player Name ID', how='outer')"
   ]
  },
  {
   "cell_type": "code",
   "execution_count": null,
   "metadata": {},
   "outputs": [],
   "source": [
    "#df_right_curveball_movement_release_velo\n",
    "#only include Player Name ID, Pitch Velocity, Pitch Movement, Pitch Release\n",
    "df_right_curveball_movement_release_velo = df_right_curveball_movement_release_velo[['Player Name ID','Pitch Velocity','Pitch Movement','Pitch Release']]"
   ]
  },
  {
   "cell_type": "code",
   "execution_count": null,
   "metadata": {},
   "outputs": [],
   "source": [
    "#player Name ID to Player Name in df_right_changeup_movement_release_velo\n",
    "df_right_curveball_movement_release_velo = df_right_curveball_movement_release_velo.rename(columns={'Player Name ID':'Player Name'})"
   ]
  },
  {
   "cell_type": "code",
   "execution_count": null,
   "metadata": {},
   "outputs": [],
   "source": [
    "#df_right_curveball2\n",
    "#df_right_curveball only include Player Name, Throws, Velocity, Vertical Break, Horizontal Break, Release Height, Side Release, Extension\n",
    "df_right_curveball2 = df_right_curveball[['Player Name','Throws','Velocity','Vertical Break','Horizontal Break','Release Height','Side Release','Extension']]"
   ]
  },
  {
   "cell_type": "code",
   "execution_count": null,
   "metadata": {},
   "outputs": [],
   "source": [
    "#combine df_right_curveball2 and df_right_curveball_movement_release_velo if name appears in both dataframes\n",
    "df_right_curveball_final = pd.merge(df_right_curveball2, df_right_curveball_movement_release_velo, on='Player Name', how='inner')\n",
    "#delete duplicate rows if name appears in more than once in df_right_changeup_final\n",
    "df_right_curveball_final = df_right_curveball_final.drop_duplicates(subset=['Player Name'])"
   ]
  },
  {
   "cell_type": "code",
   "execution_count": null,
   "metadata": {},
   "outputs": [],
   "source": [
    "# create a new column in df_right_fb_final called Pitch Type and set it equal to FB\n",
    "df_right_fb_final['Pitch Type'] = 'FB'\n",
    "df_right_slider_final['Pitch Type'] = 'SL'\n",
    "df_right_changeup_final['Pitch Type'] = 'CH'\n",
    "df_right_curveball_final['Pitch Type'] = 'CB'"
   ]
  },
  {
   "cell_type": "code",
   "execution_count": null,
   "metadata": {},
   "outputs": [],
   "source": [
    "#combine all 4 dataframes into one\n",
    "df_right_final = pd.concat([df_right_fb_final, df_right_slider_final, df_right_changeup_final, df_right_curveball_final])"
   ]
  },
  {
   "cell_type": "code",
   "execution_count": null,
   "metadata": {},
   "outputs": [],
   "source": [
    "#sort Player Name alphabetically\n",
    "df_right_final = df_right_final.sort_values(by=['Player Name'], ascending=True)"
   ]
  },
  {
   "cell_type": "code",
   "execution_count": null,
   "metadata": {},
   "outputs": [],
   "source": [
    "#new dataframe with description\n",
    "df_right_final_description = df_right_final[['Player Name','Throws','Pitch Type','Pitch Velocity','Pitch Movement','Pitch Release']]"
   ]
  },
  {
   "cell_type": "code",
   "execution_count": null,
   "metadata": {},
   "outputs": [],
   "source": [
    "#combine columns Pitch Velocity','Pitch Movement','Pitch Release' into one column called Pitch Description\n",
    "df_right_final_description['Pitch Description'] = df_right_final_description['Pitch Velocity'].astype(str) + ' ' + df_right_final_description['Pitch Movement'].astype(str) + ' ' + df_right_final_description['Pitch Release'].astype(str)"
   ]
  },
  {
   "cell_type": "code",
   "execution_count": null,
   "metadata": {},
   "outputs": [],
   "source": [
    "#only include Player Name, Throws, Pitch Type, Pitch Description\n",
    "df_right_final_description = df_right_final_description[['Player Name','Throws','Pitch Type','Pitch Description']]"
   ]
  },
  {
   "cell_type": "code",
   "execution_count": null,
   "metadata": {},
   "outputs": [],
   "source": [
    "#locate Jacob deGrom\n",
    "df_right_final_description.loc[df_right_final_description['Player Name'] == 'Skenes, Paul']"
   ]
  },
  {
   "cell_type": "code",
   "execution_count": null,
   "metadata": {},
   "outputs": [],
   "source": [
    "###BEGIN LEFTY FB###################################################################################"
   ]
  },
  {
   "cell_type": "code",
   "execution_count": null,
   "metadata": {},
   "outputs": [],
   "source": [
    "# Scale the data to normalize it\n",
    "scaler = StandardScaler()\n",
    "scaled_data = scaler.fit_transform(df_left_fb_movement)\n",
    "\n",
    "# Implement KMeans\n",
    "kmeans = KMeans(n_clusters=5)  # Number of clusters can be chosen depending on how you want to segregate\n",
    "movement_labels = kmeans.fit_predict(scaled_data)\n",
    "\n",
    "\n",
    "# Add the labels to your dataframe\n",
    "df_left_fb_movement['Cluster'] = movement_labels"
   ]
  },
  {
   "cell_type": "code",
   "execution_count": null,
   "metadata": {},
   "outputs": [],
   "source": [
    "#summary of clusters\n",
    "df_left_fb_movement.groupby('Cluster').mean()"
   ]
  },
  {
   "cell_type": "code",
   "execution_count": null,
   "metadata": {},
   "outputs": [],
   "source": [
    "#value counts by cluster\n",
    "df_left_fb_movement['Cluster'].value_counts()"
   ]
  },
  {
   "cell_type": "code",
   "execution_count": null,
   "metadata": {},
   "outputs": [],
   "source": [
    "#rename clusters based on pitch description\n",
    "df_left_fb_movement['Cluster'] = df_left_fb_movement['Cluster'].replace({0:'Sink',1:'Cut-Ride ',2:'Slight Sink',3:'Ride',4:'Slight Ride'})"
   ]
  },
  {
   "cell_type": "code",
   "execution_count": null,
   "metadata": {},
   "outputs": [],
   "source": [
    "#Change the name of cluster column to Pitch Movement\n",
    "df_left_fb_movement = df_left_fb_movement.rename(columns={'Cluster':'Pitch Movement'})"
   ]
  },
  {
   "cell_type": "code",
   "execution_count": null,
   "metadata": {},
   "outputs": [],
   "source": [
    "#replace Player Name ID with Player Name from df_left_fb\n",
    "df_left_fb_movement = df_left_fb_movement.replace({'Player Name ID':df_left_fb['Player Name']})"
   ]
  },
  {
   "cell_type": "code",
   "execution_count": null,
   "metadata": {},
   "outputs": [],
   "source": [
    "#export to csv\n",
    "df_left_fb_movement.to_csv('2022_left_fb_movement.csv')"
   ]
  },
  {
   "cell_type": "code",
   "execution_count": null,
   "metadata": {},
   "outputs": [],
   "source": [
    "#import csv\n",
    "df_left_fb_movement = pd.read_csv('2022_left_fb_movement.csv')"
   ]
  },
  {
   "cell_type": "code",
   "execution_count": null,
   "metadata": {},
   "outputs": [],
   "source": [
    "# Scale the data to normalize it\n",
    "scaler = StandardScaler()\n",
    "scaled_data2 = scaler.fit_transform(df_left_fb_release)\n",
    "\n",
    "# Implement KMeans\n",
    "kmeans = KMeans(n_clusters=5)  # Number of clusters can be chosen depending on how you want to segregate\n",
    "movement_labels = kmeans.fit_predict(scaled_data2)\n",
    "\n",
    "\n",
    "# Add the labels to your dataframe\n",
    "df_left_fb_release['Cluster'] = movement_labels"
   ]
  },
  {
   "cell_type": "code",
   "execution_count": null,
   "metadata": {},
   "outputs": [],
   "source": [
    "#summary of clusters\n",
    "df_left_fb_release.groupby('Cluster').mean()"
   ]
  },
  {
   "cell_type": "code",
   "execution_count": null,
   "metadata": {},
   "outputs": [],
   "source": [
    "#count of clusters\n",
    "df_left_fb_release['Cluster'].value_counts()"
   ]
  },
  {
   "cell_type": "code",
   "execution_count": null,
   "metadata": {},
   "outputs": [],
   "source": [
    "#rename clusters based on Release description\n",
    "df_left_fb_release['Cluster'] = df_left_fb_release['Cluster'].replace({0:'3/4',1:'OverTheTop',2:'Low 3/4 | Sidearm',3:'3/4',4:'OverTheTop'})"
   ]
  },
  {
   "cell_type": "code",
   "execution_count": null,
   "metadata": {},
   "outputs": [],
   "source": [
    "#Change the name of cluster column to Pitch Release\n",
    "df_left_fb_release = df_left_fb_release.rename(columns={'Cluster':'Pitch Release'})"
   ]
  },
  {
   "cell_type": "code",
   "execution_count": null,
   "metadata": {},
   "outputs": [],
   "source": [
    "#replace Player Name ID with Player Name from df_left_fb\n",
    "df_left_fb_release = df_left_fb_release.replace({'Player Name ID':df_left_fb['Player Name']})"
   ]
  },
  {
   "cell_type": "code",
   "execution_count": null,
   "metadata": {},
   "outputs": [],
   "source": [
    "#export to csv\n",
    "df_left_fb_release.to_csv('2022_left_fb_release.csv')"
   ]
  },
  {
   "cell_type": "code",
   "execution_count": null,
   "metadata": {},
   "outputs": [],
   "source": [
    "#import csv\n",
    "df_left_fb_release = pd.read_csv('2022_left_fb_release.csv')"
   ]
  },
  {
   "cell_type": "code",
   "execution_count": null,
   "metadata": {},
   "outputs": [],
   "source": [
    "#combine movement and release dataframes for left handed fastballs based on Player Name ID\n",
    "df_left_fb_movement_release = pd.merge(df_left_fb_movement, df_left_fb_release, on='Player Name ID', how='outer')\n"
   ]
  },
  {
   "cell_type": "code",
   "execution_count": null,
   "metadata": {},
   "outputs": [],
   "source": [
    "#df_left_fb_velo\n",
    "#create 5 clusters based on velo percentile\n",
    "#cluster 0 = 0-20 percentile\n",
    "#cluster 1 = 20-40 percentile\n",
    "#cluster 2 = 40-60 percentile\n",
    "#cluster 3 = 60-80 percentile\n",
    "#cluster 4 = 80-100 percentile\n",
    "df_left_fb_velo['Cluster'] = pd.cut(df_left_fb_velo['Velo_percentile'], bins=[0,.20,.40,.60,.80,1], labels=['0-20','20-40','40-60','60-80','80-100'])"
   ]
  },
  {
   "cell_type": "code",
   "execution_count": null,
   "metadata": {},
   "outputs": [],
   "source": [
    "#rename clusters based on velo percentile\n",
    "df_left_fb_velo['Cluster'] = df_left_fb_velo['Cluster'].replace({'0-20':'Very Slow','20-40':'Slow','40-60':'Average','60-80':'Hard','80-100':'Very Hard'})"
   ]
  },
  {
   "cell_type": "code",
   "execution_count": null,
   "metadata": {},
   "outputs": [],
   "source": [
    "#rename cluster column to Pitch Velocity description\n",
    "df_left_fb_velo = df_left_fb_velo.rename(columns={'Cluster':'Pitch Velocity'})"
   ]
  },
  {
   "cell_type": "code",
   "execution_count": null,
   "metadata": {},
   "outputs": [],
   "source": [
    "#replace Player Name ID with Player Name from df_left_fb\n",
    "df_left_fb_velo = df_left_fb_velo.replace({'Player Name ID':df_left_fb['Player Name']})"
   ]
  },
  {
   "cell_type": "code",
   "execution_count": null,
   "metadata": {},
   "outputs": [],
   "source": [
    "#combine movement, release, and velo dataframes for left handed fastballs based on Player Name ID\n",
    "df_left_fb_movement_release_velo = pd.merge(df_left_fb_movement_release, df_left_fb_velo, on='Player Name ID', how='outer')"
   ]
  },
  {
   "cell_type": "code",
   "execution_count": null,
   "metadata": {},
   "outputs": [],
   "source": [
    "#df_left_fb_movement_release_velo\n",
    "#only include Player Name ID, Pitch Velocity, Pitch Movement, Pitch Release\n",
    "df_left_fb_movement_release_velo = df_left_fb_movement_release_velo[['Player Name ID','Pitch Velocity','Pitch Movement','Pitch Release']]"
   ]
  },
  {
   "cell_type": "code",
   "execution_count": null,
   "metadata": {},
   "outputs": [],
   "source": [
    "# rename Player Name ID to Player Name in df_left_fb_movement_release_velo\n",
    "df_left_fb_movement_release_velo = df_left_fb_movement_release_velo.rename(columns={'Player Name ID':'Player Name'})"
   ]
  },
  {
   "cell_type": "code",
   "execution_count": null,
   "metadata": {},
   "outputs": [],
   "source": [
    "#df_left_fb2\n",
    "#df_left_fb only include Player Name, Throws, Velocity, Vertical Break, Horizontal Break, Release Height, Side Release, Extension\n",
    "df_left_fb2 = df_left_fb[['Player Name','Throws','Velocity','Vertical Break','Horizontal Break','Release Height','Side Release','Extension']]"
   ]
  },
  {
   "cell_type": "code",
   "execution_count": null,
   "metadata": {},
   "outputs": [],
   "source": [
    "#combine df_left_fb2 and df_left_fb_movement_release_velo if name appears in both dataframes\n",
    "df_left_fb_final = pd.merge(df_left_fb2, df_left_fb_movement_release_velo, on='Player Name', how='inner')\n",
    "#delete duplicate rows if name appears in more than once in df_left_fb_final\n",
    "df_left_fb_final = df_left_fb_final.drop_duplicates(subset=['Player Name'])\n"
   ]
  },
  {
   "cell_type": "code",
   "execution_count": null,
   "metadata": {},
   "outputs": [],
   "source": [
    "#sort high to low by velocity\n",
    "df_left_fb_final = df_left_fb_final.sort_values(by=['Velocity'], ascending=False)"
   ]
  },
  {
   "cell_type": "code",
   "execution_count": null,
   "metadata": {},
   "outputs": [],
   "source": [
    "######BEGIN SLIDER##############################################################################################"
   ]
  },
  {
   "cell_type": "code",
   "execution_count": null,
   "metadata": {},
   "outputs": [],
   "source": [
    "# Scale the data to normalize it\n",
    "scaler = StandardScaler()\n",
    "scaled_data = scaler.fit_transform(df_left_slider_movement)\n",
    "\n",
    "# Implement KMeans\n",
    "kmeans = KMeans(n_clusters=4)  # Number of clusters can be chosen depending on how you want to segregate\n",
    "movement_labels = kmeans.fit_predict(scaled_data)\n",
    "\n",
    "\n",
    "# Add the labels to your dataframe\n",
    "df_left_slider_movement['Cluster'] = movement_labels"
   ]
  },
  {
   "cell_type": "code",
   "execution_count": null,
   "metadata": {},
   "outputs": [],
   "source": [
    "#summary of clusters\n",
    "df_left_slider_movement.groupby('Cluster').mean()"
   ]
  },
  {
   "cell_type": "code",
   "execution_count": null,
   "metadata": {},
   "outputs": [],
   "source": [
    "#value counts by cluster\n",
    "df_left_slider_movement['Cluster'].value_counts()"
   ]
  },
  {
   "cell_type": "code",
   "execution_count": null,
   "metadata": {},
   "outputs": [],
   "source": [
    "#rename clusters based on pitch description\n",
    "df_left_slider_movement['Cluster'] = df_left_slider_movement['Cluster'].replace({0:'Gyro',1:'Cutter',2:'Gyro',3:'Sweeper'})"
   ]
  },
  {
   "cell_type": "code",
   "execution_count": null,
   "metadata": {},
   "outputs": [],
   "source": [
    "#change the name of cluster column to Pitch Movement\n",
    "df_left_slider_movement = df_left_slider_movement.rename(columns={'Cluster':'Pitch Movement'})"
   ]
  },
  {
   "cell_type": "code",
   "execution_count": null,
   "metadata": {},
   "outputs": [],
   "source": [
    "#replace Player Name ID with Player Name from df_left_slider\n",
    "df_left_slider_movement = df_left_slider_movement.replace({'Player Name ID':df_left_slider['Player Name']})"
   ]
  },
  {
   "cell_type": "code",
   "execution_count": null,
   "metadata": {},
   "outputs": [],
   "source": [
    "#export to csv\n",
    "df_left_slider_movement.to_csv('2022_left_slider_movement.csv')"
   ]
  },
  {
   "cell_type": "code",
   "execution_count": null,
   "metadata": {},
   "outputs": [],
   "source": [
    "#import csv\n",
    "df_left_slider_movement = pd.read_csv('2022_left_slider_movement.csv')"
   ]
  },
  {
   "cell_type": "code",
   "execution_count": null,
   "metadata": {},
   "outputs": [],
   "source": [
    "# Scale the data to normalize it\n",
    "scaler = StandardScaler()\n",
    "scaled_data = scaler.fit_transform(df_left_slider_release)\n",
    "\n",
    "# Implement KMeans\n",
    "kmeans = KMeans(n_clusters=4)  # Number of clusters can be chosen depending on how you want to segregate\n",
    "movement_labels = kmeans.fit_predict(scaled_data)\n",
    "\n",
    "\n",
    "# Add the labels to your dataframe\n",
    "df_left_slider_release['Cluster'] = movement_labels"
   ]
  },
  {
   "cell_type": "code",
   "execution_count": null,
   "metadata": {},
   "outputs": [],
   "source": [
    "#summary of clusters\n",
    "df_left_slider_release.groupby('Cluster').mean()"
   ]
  },
  {
   "cell_type": "code",
   "execution_count": null,
   "metadata": {},
   "outputs": [],
   "source": [
    "#count of clusters\n",
    "df_left_slider_release['Cluster'].value_counts()"
   ]
  },
  {
   "cell_type": "code",
   "execution_count": null,
   "metadata": {},
   "outputs": [],
   "source": [
    "#rename clusters based on Release description\n",
    "df_left_slider_release['Cluster'] = df_left_slider_release['Cluster'].replace({0:'3/4',1:'Low 3/4 | Sidearm',2:'OverTheTop',3:'3/4'})"
   ]
  },
  {
   "cell_type": "code",
   "execution_count": null,
   "metadata": {},
   "outputs": [],
   "source": [
    "#Change the name of cluster column to Pitch Release\n",
    "df_left_slider_release = df_left_slider_release.rename(columns={'Cluster':'Pitch Release'})"
   ]
  },
  {
   "cell_type": "code",
   "execution_count": null,
   "metadata": {},
   "outputs": [],
   "source": [
    "#replace Player Name ID with Player Name from df_left_slider\n",
    "df_left_slider_release = df_left_slider_release.replace({'Player Name ID':df_left_slider['Player Name']})"
   ]
  },
  {
   "cell_type": "code",
   "execution_count": null,
   "metadata": {},
   "outputs": [],
   "source": [
    "#export to csv\n",
    "df_left_slider_release.to_csv('2022_left_slider_release.csv')\n"
   ]
  },
  {
   "cell_type": "code",
   "execution_count": null,
   "metadata": {},
   "outputs": [],
   "source": [
    "#import csv\n",
    "df_left_slider_release = pd.read_csv('2022_left_slider_release.csv')"
   ]
  },
  {
   "cell_type": "code",
   "execution_count": null,
   "metadata": {},
   "outputs": [],
   "source": [
    "#combine movement and release dataframes for left handed sliders based on Player Name ID\n",
    "df_left_slider_movement_release = pd.merge(df_left_slider_movement, df_left_slider_release, on='Player Name ID', how='outer')"
   ]
  },
  {
   "cell_type": "code",
   "execution_count": null,
   "metadata": {},
   "outputs": [],
   "source": [
    "#df_left_slider_velo\n",
    "#create 5 clusters based on velo percentile\n",
    "#cluster 0 = 0-20 percentile\n",
    "#cluster 1 = 20-40 percentile\n",
    "#cluster 2 = 40-60 percentile\n",
    "#cluster 3 = 60-80 percentile\n",
    "#cluster 4 = 80-100 percentile\n",
    "df_left_slider_velo['Cluster'] = pd.cut(df_left_slider_velo['Velo_percentile'], bins=[0,.20,.40,.60,.80,1], labels=['0-20','20-40','40-60','60-80','80-100'])"
   ]
  },
  {
   "cell_type": "code",
   "execution_count": null,
   "metadata": {},
   "outputs": [],
   "source": [
    "#rename clusters based on velo percentile\n",
    "df_left_slider_velo['Cluster'] = df_left_slider_velo['Cluster'].replace({'0-20':'Very Slow','20-40':'Slow','40-60':'Average','60-80':'Hard','80-100':'Very Hard'})"
   ]
  },
  {
   "cell_type": "code",
   "execution_count": null,
   "metadata": {},
   "outputs": [],
   "source": [
    "#rename cluster column to Pitch Velocity description\n",
    "df_left_slider_velo = df_left_slider_velo.rename(columns={'Cluster':'Pitch Velocity'})"
   ]
  },
  {
   "cell_type": "code",
   "execution_count": null,
   "metadata": {},
   "outputs": [],
   "source": [
    "#replace Player Name ID with Player Name from df_left_slider\n",
    "df_left_slider_velo = df_left_slider_velo.replace({'Player Name ID':df_left_slider['Player Name']})"
   ]
  },
  {
   "cell_type": "code",
   "execution_count": null,
   "metadata": {},
   "outputs": [],
   "source": [
    "#combine movement, release, and velo dataframes for left handed sliders based on Player Name ID\n",
    "df_left_slider_movement_release_velo = pd.merge(df_left_slider_movement_release, df_left_slider_velo, on='Player Name ID', how='outer')"
   ]
  },
  {
   "cell_type": "code",
   "execution_count": null,
   "metadata": {},
   "outputs": [],
   "source": [
    "#df_left_slider_movement_release_velo\n",
    "#only include Player Name ID, Pitch Velocity, Pitch Movement, Pitch Release\n",
    "df_left_slider_movement_release_velo = df_left_slider_movement_release_velo[['Player Name ID','Pitch Velocity','Pitch Movement','Pitch Release']]\n",
    "# rename Player Name ID to Player Name in df_left_slider_movement_release_velo\n",
    "df_left_slider_movement_release_velo = df_left_slider_movement_release_velo.rename(columns={'Player Name ID':'Player Name'})\n"
   ]
  },
  {
   "cell_type": "code",
   "execution_count": null,
   "metadata": {},
   "outputs": [],
   "source": [
    "#df_left_slider2\n",
    "#df_left_slider only include Player Name, Throws, Velocity, Vertical Break, Horizontal Break, Release Height, Side Release, Extension\n",
    "df_left_slider2 = df_left_slider[['Player Name','Throws','Velocity','Vertical Break','Horizontal Break','Release Height','Side Release','Extension']]\n",
    "#combine df_left_slider2 and df_left_slider_movement_release_velo if name appears in both dataframes\n",
    "df_left_slider_final = pd.merge(df_left_slider2, df_left_slider_movement_release_velo, on='Player Name', how='inner')"
   ]
  },
  {
   "cell_type": "code",
   "execution_count": null,
   "metadata": {},
   "outputs": [],
   "source": [
    "#delete duplicate rows if name appears in more than once in df_left_slider_final\n",
    "df_left_slider_final = df_left_slider_final.drop_duplicates(subset=['Player Name'])"
   ]
  },
  {
   "cell_type": "code",
   "execution_count": null,
   "metadata": {},
   "outputs": [],
   "source": [
    "#sort high to low by velocity\n",
    "df_left_slider_final = df_left_slider_final.sort_values(by=['Velocity'], ascending=False)"
   ]
  },
  {
   "cell_type": "code",
   "execution_count": null,
   "metadata": {},
   "outputs": [],
   "source": [
    "######BEGIN CHANGEUP##############################################################################################"
   ]
  },
  {
   "cell_type": "code",
   "execution_count": null,
   "metadata": {},
   "outputs": [],
   "source": [
    "# Scale the data to normalize it\n",
    "scaler = StandardScaler()\n",
    "scaled_data = scaler.fit_transform(df_left_changeup_movement)\n",
    "\n",
    "# Implement KMeans\n",
    "kmeans = KMeans(n_clusters=4)  # Number of clusters can be chosen depending on how you want to segregate\n",
    "movement_labels = kmeans.fit_predict(scaled_data)\n",
    "\n",
    "\n",
    "# Add the labels to your dataframe\n",
    "df_left_changeup_movement['Cluster'] = movement_labels"
   ]
  },
  {
   "cell_type": "code",
   "execution_count": null,
   "metadata": {},
   "outputs": [],
   "source": [
    "#summary of clusters\n",
    "df_left_changeup_movement.groupby('Cluster').mean()"
   ]
  },
  {
   "cell_type": "code",
   "execution_count": null,
   "metadata": {},
   "outputs": [],
   "source": [
    "#value counts by cluster\n",
    "df_left_changeup_movement['Cluster'].value_counts()"
   ]
  },
  {
   "cell_type": "code",
   "execution_count": null,
   "metadata": {},
   "outputs": [],
   "source": [
    "#rename clusters based on pitch description\n",
    "df_left_changeup_movement['Cluster'] = df_left_changeup_movement['Cluster'].replace({0:'Depth w/ Fade',1:'Drop',2:'FB Shape',3:'Depth w/ fade'})"
   ]
  },
  {
   "cell_type": "code",
   "execution_count": null,
   "metadata": {},
   "outputs": [],
   "source": [
    "#change the name of cluster column to Pitch Movement\n",
    "df_left_changeup_movement = df_left_changeup_movement.rename(columns={'Cluster':'Pitch Movement'})"
   ]
  },
  {
   "cell_type": "code",
   "execution_count": null,
   "metadata": {},
   "outputs": [],
   "source": [
    "#replace Player Name ID with Player Name from df_left_changeup\n",
    "df_left_changeup_movement = df_left_changeup_movement.replace({'Player Name ID':df_left_changeup['Player Name']})"
   ]
  },
  {
   "cell_type": "code",
   "execution_count": null,
   "metadata": {},
   "outputs": [],
   "source": [
    "#show all with drop\n",
    "df_left_changeup_movement.loc[df_left_changeup_movement['Pitch Movement'] == 'Drop']\n",
    "# delete rows with drop\n",
    "df_left_changeup_movement = df_left_changeup_movement[df_left_changeup_movement['Pitch Movement'] != 'Drop']\n"
   ]
  },
  {
   "cell_type": "code",
   "execution_count": null,
   "metadata": {},
   "outputs": [],
   "source": [
    "#export to csv\n",
    "df_left_changeup_movement.to_csv('2022_left_changeup_movement.csv')\n"
   ]
  },
  {
   "cell_type": "code",
   "execution_count": null,
   "metadata": {},
   "outputs": [],
   "source": [
    "#import csv\n",
    "df_left_changeup_movement = pd.read_csv('2022_left_changeup_movement.csv')"
   ]
  },
  {
   "cell_type": "code",
   "execution_count": null,
   "metadata": {},
   "outputs": [],
   "source": [
    "# Scale the data to normalize it\n",
    "scaler = StandardScaler()\n",
    "scaled_data = scaler.fit_transform(df_left_changeup_release)\n",
    "\n",
    "# Implement KMeans\n",
    "kmeans = KMeans(n_clusters=4)  # Number of clusters can be chosen depending on how you want to segregate\n",
    "movement_labels = kmeans.fit_predict(scaled_data)\n",
    "\n",
    "\n",
    "# Add the labels to your dataframe\n",
    "df_left_changeup_release['Cluster'] = movement_labels"
   ]
  },
  {
   "cell_type": "code",
   "execution_count": null,
   "metadata": {},
   "outputs": [],
   "source": [
    "#summary of clusters\n",
    "df_left_changeup_release.groupby('Cluster').mean()"
   ]
  },
  {
   "cell_type": "code",
   "execution_count": null,
   "metadata": {},
   "outputs": [],
   "source": [
    "# count of clusters\n",
    "df_left_changeup_release['Cluster'].value_counts()"
   ]
  },
  {
   "cell_type": "code",
   "execution_count": null,
   "metadata": {},
   "outputs": [],
   "source": [
    "#rename clusters based on Release description\n",
    "df_left_changeup_release['Cluster'] = df_left_changeup_release['Cluster'].replace({0:'3/4',1:'3/4',2:'Low 3/4 | Sidearm',3:'OverTheTop'})"
   ]
  },
  {
   "cell_type": "code",
   "execution_count": null,
   "metadata": {},
   "outputs": [],
   "source": [
    "#Change the name of cluster column to Pitch Release\n",
    "df_left_changeup_release = df_left_changeup_release.rename(columns={'Cluster':'Pitch Release'})"
   ]
  },
  {
   "cell_type": "code",
   "execution_count": null,
   "metadata": {},
   "outputs": [],
   "source": [
    "#replace Player Name ID with Player Name from df_left_changeup\n",
    "df_left_changeup_release = df_left_changeup_release.replace({'Player Name ID':df_left_changeup['Player Name']})"
   ]
  },
  {
   "cell_type": "code",
   "execution_count": null,
   "metadata": {},
   "outputs": [],
   "source": [
    "#export to csv\n",
    "df_left_changeup_release.to_csv('2022_left_changeup_release.csv')"
   ]
  },
  {
   "cell_type": "code",
   "execution_count": null,
   "metadata": {},
   "outputs": [],
   "source": [
    "#import csv\n",
    "df_left_changeup_release = pd.read_csv('2022_left_changeup_release.csv')"
   ]
  },
  {
   "cell_type": "code",
   "execution_count": null,
   "metadata": {},
   "outputs": [],
   "source": [
    "#combine movement and release dataframes for left handed changeups based on Player Name ID\n",
    "df_left_changeup_movement_release = pd.merge(df_left_changeup_movement, df_left_changeup_release, on='Player Name ID', how='outer')"
   ]
  },
  {
   "cell_type": "code",
   "execution_count": null,
   "metadata": {},
   "outputs": [],
   "source": [
    "#df_left_changeup_velo\n",
    "#create 5 clusters based on velo percentile\n",
    "#cluster 0 = 0-20 percentile\n",
    "#cluster 1 = 20-40 percentile\n",
    "#cluster 2 = 40-60 percentile\n",
    "#cluster 3 = 60-80 percentile\n",
    "#cluster 4 = 80-100 percentile\n",
    "df_left_changeup_velo['Cluster'] = pd.cut(df_left_changeup_velo['Velo_percentile'], bins=[0,.20,.40,.60,.80,1], labels=['0-20','20-40','40-60','60-80','80-100'])"
   ]
  },
  {
   "cell_type": "code",
   "execution_count": null,
   "metadata": {},
   "outputs": [],
   "source": [
    "#rename clusters based on velo percentile\n",
    "df_left_changeup_velo['Cluster'] = df_left_changeup_velo['Cluster'].replace({'0-20':'Very Slow','20-40':'Slow','40-60':'Average','60-80':'Hard','80-100':'Very Hard'})"
   ]
  },
  {
   "cell_type": "code",
   "execution_count": null,
   "metadata": {},
   "outputs": [],
   "source": [
    "#rename cluster column to Pitch Velocity description\n",
    "df_left_changeup_velo = df_left_changeup_velo.rename(columns={'Cluster':'Pitch Velocity'})"
   ]
  },
  {
   "cell_type": "code",
   "execution_count": null,
   "metadata": {},
   "outputs": [],
   "source": [
    "#replace Player Name ID with Player Name from df_left_changeup\n",
    "df_left_changeup_velo = df_left_changeup_velo.replace({'Player Name ID':df_left_changeup['Player Name']})"
   ]
  },
  {
   "cell_type": "code",
   "execution_count": null,
   "metadata": {},
   "outputs": [],
   "source": [
    "#combine movement, release, and velo dataframes for left handed changeups based on Player Name ID\n",
    "df_left_changeup_movement_release_velo = pd.merge(df_left_changeup_movement_release, df_left_changeup_velo, on='Player Name ID', how='outer')\n"
   ]
  },
  {
   "cell_type": "code",
   "execution_count": null,
   "metadata": {},
   "outputs": [],
   "source": [
    "#df_left_changeup_movement_release_velo\n",
    "#only include Player Name ID, Pitch Velocity, Pitch Movement, Pitch Release\n",
    "df_left_changeup_movement_release_velo = df_left_changeup_movement_release_velo[['Player Name ID','Pitch Velocity','Pitch Movement','Pitch Release']]\n",
    "# rename Player Name ID to Player Name in df_left_changeup_movement_release_velo\n",
    "df_left_changeup_movement_release_velo = df_left_changeup_movement_release_velo.rename(columns={'Player Name ID':'Player Name'})"
   ]
  },
  {
   "cell_type": "code",
   "execution_count": null,
   "metadata": {},
   "outputs": [],
   "source": [
    "#df_left_changeup2\n",
    "#df_left_changeup only include Player Name, Throws, Velocity, Vertical Break, Horizontal Break, Release Height, Side Release, Extension\n",
    "df_left_changeup2 = df_left_changeup[['Player Name','Throws','Velocity','Vertical Break','Horizontal Break','Release Height','Side Release','Extension']]\n",
    "#combine df_left_changeup2 and df_left_changeup_movement_release_velo if name appears in both dataframes\n",
    "df_left_changeup_final = pd.merge(df_left_changeup2, df_left_changeup_movement_release_velo, on='Player Name', how='inner')"
   ]
  },
  {
   "cell_type": "code",
   "execution_count": null,
   "metadata": {},
   "outputs": [],
   "source": [
    "#delete duplicate rows if name appears in more than once in df_left_changeup_final\n",
    "df_left_changeup_final = df_left_changeup_final.drop_duplicates(subset=['Player Name'])"
   ]
  },
  {
   "cell_type": "code",
   "execution_count": null,
   "metadata": {},
   "outputs": [],
   "source": [
    "#sort high to low by velocity\n",
    "df_left_changeup_final = df_left_changeup_final.sort_values(by=['Velocity'], ascending=False)"
   ]
  },
  {
   "cell_type": "code",
   "execution_count": null,
   "metadata": {},
   "outputs": [],
   "source": [
    "######BEGIN CURVEBALL##############################################################################################"
   ]
  },
  {
   "cell_type": "code",
   "execution_count": null,
   "metadata": {},
   "outputs": [],
   "source": [
    "# Scale the data to normalize it\n",
    "scaler = StandardScaler()\n",
    "scaled_data = scaler.fit_transform(df_left_curveball_movement)\n",
    "\n",
    "# Implement KMeans\n",
    "kmeans = KMeans(n_clusters=6)  # Number of clusters can be chosen depending on how you want to segregate\n",
    "movement_labels = kmeans.fit_predict(scaled_data)\n",
    "\n",
    "\n",
    "# Add the labels to your dataframe\n",
    "df_left_curveball_movement['Cluster'] = movement_labels"
   ]
  },
  {
   "cell_type": "code",
   "execution_count": null,
   "metadata": {},
   "outputs": [],
   "source": [
    "#summary of clusters\n",
    "df_left_curveball_movement.groupby('Cluster').mean()"
   ]
  },
  {
   "cell_type": "code",
   "execution_count": null,
   "metadata": {},
   "outputs": [],
   "source": [
    "#value counts by cluster\n",
    "df_left_curveball_movement['Cluster'].value_counts()"
   ]
  },
  {
   "cell_type": "code",
   "execution_count": null,
   "metadata": {},
   "outputs": [],
   "source": [
    "#rename clusters based on pitch description\n",
    "df_left_curveball_movement['Cluster'] = df_left_curveball_movement['Cluster'].replace({0:'Slurve',1:'True Curve',2:'Small Curve',3:'True Curve',4:'Small Curve',5:'Slider Type'})"
   ]
  },
  {
   "cell_type": "code",
   "execution_count": null,
   "metadata": {},
   "outputs": [],
   "source": [
    "#change the name of cluster column to Pitch Movement\n",
    "df_left_curveball_movement = df_left_curveball_movement.rename(columns={'Cluster':'Pitch Movement'})"
   ]
  },
  {
   "cell_type": "code",
   "execution_count": null,
   "metadata": {},
   "outputs": [],
   "source": [
    "#replace Player Name ID with Player Name from df_left_curveball\n",
    "df_left_curveball_movement = df_left_curveball_movement.replace({'Player Name ID':df_left_curveball['Player Name']})"
   ]
  },
  {
   "cell_type": "code",
   "execution_count": null,
   "metadata": {},
   "outputs": [],
   "source": [
    "#export to csv\n",
    "df_left_curveball_movement.to_csv('2022_left_curveball_movement.csv')"
   ]
  },
  {
   "cell_type": "code",
   "execution_count": null,
   "metadata": {},
   "outputs": [],
   "source": [
    "#import csv\n",
    "df_left_curveball_movement = pd.read_csv('2022_left_curveball_movement.csv')"
   ]
  },
  {
   "cell_type": "code",
   "execution_count": null,
   "metadata": {},
   "outputs": [],
   "source": [
    "# Scale the data to normalize it\n",
    "scaler = StandardScaler()\n",
    "scaled_data = scaler.fit_transform(df_left_curveball_release)\n",
    "\n",
    "# Implement KMeans\n",
    "kmeans = KMeans(n_clusters=6)  # Number of clusters can be chosen depending on how you want to segregate\n",
    "movement_labels = kmeans.fit_predict(scaled_data)\n",
    "\n",
    "\n",
    "# Add the labels to your dataframe\n",
    "df_left_curveball_release['Cluster'] = movement_labels"
   ]
  },
  {
   "cell_type": "code",
   "execution_count": null,
   "metadata": {},
   "outputs": [],
   "source": [
    "#summary of clusters\n",
    "df_left_curveball_release.groupby('Cluster').mean()"
   ]
  },
  {
   "cell_type": "code",
   "execution_count": null,
   "metadata": {},
   "outputs": [],
   "source": [
    "#value counts by cluster\n",
    "df_left_curveball_release['Cluster'].value_counts()"
   ]
  },
  {
   "cell_type": "code",
   "execution_count": null,
   "metadata": {},
   "outputs": [],
   "source": [
    "#rename clusters based on Release description\n",
    "df_left_curveball_release['Cluster'] = df_left_curveball_release['Cluster'].replace({0:'Low 3/4 | Sidearm',1:'3/4',2:'3/4',3:'Low 3/4 | Sidearm',4:'3/4',5:'OverTheTop'})"
   ]
  },
  {
   "cell_type": "code",
   "execution_count": null,
   "metadata": {},
   "outputs": [],
   "source": [
    "#Change the name of cluster column to Pitch Release\n",
    "df_left_curveball_release = df_left_curveball_release.rename(columns={'Cluster':'Pitch Release'})"
   ]
  },
  {
   "cell_type": "code",
   "execution_count": null,
   "metadata": {},
   "outputs": [],
   "source": [
    "#replace Player Name ID with Player Name from df_left_changeup\n",
    "df_left_curveball_release = df_left_curveball_release.replace({'Player Name ID':df_left_curveball['Player Name']})"
   ]
  },
  {
   "cell_type": "code",
   "execution_count": null,
   "metadata": {},
   "outputs": [],
   "source": [
    "#export to csv\n",
    "df_left_curveball_release.to_csv('2022_left_curveball_release.csv')"
   ]
  },
  {
   "cell_type": "code",
   "execution_count": null,
   "metadata": {},
   "outputs": [],
   "source": [
    "#import csv\n",
    "df_left_curveball_release = pd.read_csv('2022_left_curveball_release.csv')"
   ]
  },
  {
   "cell_type": "code",
   "execution_count": null,
   "metadata": {},
   "outputs": [],
   "source": [
    "#combine movement and release dataframes for left handed curveballs based on Player Name ID\n",
    "df_left_curveball_movement_release = pd.merge(df_left_curveball_movement, df_left_curveball_release, on='Player Name ID', how='outer')"
   ]
  },
  {
   "cell_type": "code",
   "execution_count": null,
   "metadata": {},
   "outputs": [],
   "source": [
    "#df_left_curveball_velo\n",
    "#create 5 clusters based on velo percentile\n",
    "#cluster 0 = 0-20 percentile\n",
    "#cluster 1 = 20-40 percentile\n",
    "#cluster 2 = 40-60 percentile\n",
    "#cluster 3 = 60-80 percentile\n",
    "#cluster 4 = 80-100 percentile\n",
    "df_left_curveball_velo['Cluster'] = pd.cut(df_left_curveball_velo['Velo_percentile'], bins=[0,.20,.40,.60,.80,1], labels=['0-20','20-40','40-60','60-80','80-100'])"
   ]
  },
  {
   "cell_type": "code",
   "execution_count": null,
   "metadata": {},
   "outputs": [],
   "source": [
    "#rename clusters based on velo percentile\n",
    "df_left_curveball_velo['Cluster'] = df_left_curveball_velo['Cluster'].replace({'0-20':'Very Slow','20-40':'Slow','40-60':'Average','60-80':'Hard','80-100':'Very Hard'})"
   ]
  },
  {
   "cell_type": "code",
   "execution_count": null,
   "metadata": {},
   "outputs": [],
   "source": [
    "#rename cluster column to Pitch Velocity description\n",
    "df_left_curveball_velo = df_left_curveball_velo.rename(columns={'Cluster':'Pitch Velocity'})"
   ]
  },
  {
   "cell_type": "code",
   "execution_count": null,
   "metadata": {},
   "outputs": [],
   "source": [
    "#replace Player Name ID with Player Name from df_left_curveball\n",
    "df_left_curveball_velo = df_left_curveball_velo.replace({'Player Name ID':df_left_curveball['Player Name']})\n"
   ]
  },
  {
   "cell_type": "code",
   "execution_count": null,
   "metadata": {},
   "outputs": [],
   "source": [
    "#combine movement, release, and velo dataframes for left handed curveballs based on Player Name ID\n",
    "df_left_curveball_movement_release_velo = pd.merge(df_left_curveball_movement_release, df_left_curveball_velo, on='Player Name ID', how='outer')"
   ]
  },
  {
   "cell_type": "code",
   "execution_count": null,
   "metadata": {},
   "outputs": [],
   "source": [
    "#df_left_curveball_movement_release_velo\n",
    "#only include Player Name ID, Pitch Velocity, Pitch Movement, Pitch Release\n",
    "df_left_curveball_movement_release_velo = df_left_curveball_movement_release_velo[['Player Name ID','Pitch Velocity','Pitch Movement','Pitch Release']]\n",
    "# rename Player Name ID to Player Name in df_left_curveball_movement_release_velo\n",
    "df_left_curveball_movement_release_velo = df_left_curveball_movement_release_velo.rename(columns={'Player Name ID':'Player Name'})"
   ]
  },
  {
   "cell_type": "code",
   "execution_count": null,
   "metadata": {},
   "outputs": [],
   "source": [
    "#df_left_curveball2\n",
    "#df_left_curveball only include Player Name, Throws, Velocity, Vertical Break, Horizontal Break, Release Height, Side Release, Extension\n",
    "df_left_curveball2 = df_left_curveball[['Player Name','Throws','Velocity','Vertical Break','Horizontal Break','Release Height','Side Release','Extension']]\n",
    "#combine df_left_curveball2 and df_left_curveball_movement_release_velo if name appears in both dataframes\n",
    "df_left_curveball_final = pd.merge(df_left_curveball2, df_left_curveball_movement_release_velo, on='Player Name', how='inner')"
   ]
  },
  {
   "cell_type": "code",
   "execution_count": null,
   "metadata": {},
   "outputs": [],
   "source": [
    "#delete duplicate rows if name appears in more than once in df_left_curveball_final\n",
    "df_left_curveball_final = df_left_curveball_final.drop_duplicates(subset=['Player Name'])\n"
   ]
  },
  {
   "cell_type": "code",
   "execution_count": null,
   "metadata": {},
   "outputs": [],
   "source": [
    "#sort high to low by velocity\n",
    "df_left_curveball_final = df_left_curveball_final.sort_values(by=['Velocity'], ascending=False)"
   ]
  },
  {
   "cell_type": "code",
   "execution_count": null,
   "metadata": {},
   "outputs": [],
   "source": [
    "# create a new column in df_left_fb_final called Pitch Type and set it equal to FB\n",
    "df_left_fb_final['Pitch Type'] = 'FB'\n",
    "df_left_slider_final['Pitch Type'] = 'SL'\n",
    "df_left_changeup_final['Pitch Type'] = 'CH'\n",
    "df_left_curveball_final['Pitch Type'] = 'CB'"
   ]
  },
  {
   "cell_type": "code",
   "execution_count": null,
   "metadata": {},
   "outputs": [],
   "source": [
    "#combine all 4 dataframes into one\n",
    "df_left_final = pd.concat([df_left_fb_final, df_left_slider_final, df_left_changeup_final, df_left_curveball_final])"
   ]
  },
  {
   "cell_type": "code",
   "execution_count": null,
   "metadata": {},
   "outputs": [],
   "source": [
    "#new dataframe with description\n",
    "df_left_final_description = df_left_final[['Player Name','Throws','Pitch Type','Pitch Velocity','Pitch Movement','Pitch Release']]"
   ]
  },
  {
   "cell_type": "code",
   "execution_count": null,
   "metadata": {},
   "outputs": [],
   "source": [
    "#combine columns Pitch Velocity','Pitch Movement','Pitch Release' into one column called Pitch Description\n",
    "df_left_final_description['Pitch Description'] = df_left_final_description['Pitch Velocity'].astype(str) + ' ' + df_left_final_description['Pitch Movement'].astype(str) + ' ' + df_left_final_description['Pitch Release'].astype(str)"
   ]
  },
  {
   "cell_type": "code",
   "execution_count": null,
   "metadata": {},
   "outputs": [],
   "source": [
    "#only include Player Name, Throws, Pitch Type, Pitch Description\n",
    "df_left_final_description = df_left_final_description[['Player Name','Throws','Pitch Type','Pitch Description']]"
   ]
  },
  {
   "cell_type": "code",
   "execution_count": null,
   "metadata": {},
   "outputs": [],
   "source": [
    "#locate players\n",
    "df_left_final_description.loc[df_left_final_description['Player Name'] == 'Frank, Hayden']"
   ]
  },
  {
   "cell_type": "code",
   "execution_count": null,
   "metadata": {},
   "outputs": [],
   "source": [
    "#locate players\n",
    "df_right_final_description.loc[df_right_final_description['Player Name'] == 'Brecht, Brody']"
   ]
  },
  {
   "cell_type": "code",
   "execution_count": null,
   "metadata": {},
   "outputs": [],
   "source": [
    "#combine right and left handed pitchers\n",
    "df_final = pd.concat([df_right_final_description, df_left_final_description])"
   ]
  },
  {
   "cell_type": "code",
   "execution_count": null,
   "metadata": {},
   "outputs": [],
   "source": [
    "#look up player\n",
    "df_final.loc[df_final['Player Name'] == 'Brecht, Brody']"
   ]
  }
 ],
 "metadata": {
  "kernelspec": {
   "display_name": "base",
   "language": "python",
   "name": "python3"
  },
  "language_info": {
   "codemirror_mode": {
    "name": "ipython",
    "version": 3
   },
   "file_extension": ".py",
   "mimetype": "text/x-python",
   "name": "python",
   "nbconvert_exporter": "python",
   "pygments_lexer": "ipython3",
   "version": "3.9.13"
  },
  "orig_nbformat": 4
 },
 "nbformat": 4,
 "nbformat_minor": 2
}
